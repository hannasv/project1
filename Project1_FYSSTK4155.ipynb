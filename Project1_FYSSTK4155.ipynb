{
 "cells": [
  {
   "cell_type": "markdown",
   "metadata": {},
   "source": [
    "# Project 1: fys-stk4155"
   ]
  },
  {
   "cell_type": "markdown",
   "metadata": {},
   "source": [
    "Import python packages"
   ]
  },
  {
   "cell_type": "code",
   "execution_count": null,
   "metadata": {},
   "outputs": [],
   "source": [
    "from mpl_toolkits.mplot3d import Axes3D\n",
    "import matplotlib.pyplot as plt\n",
    "from matplotlib import cm\n",
    "from matplotlib.ticker import LinearLocator, FormatStrFormatter\n",
    "import numpy as np\n",
    "from random import random, seed\n",
    "from imageio import imread"
   ]
  },
  {
   "cell_type": "markdown",
   "metadata": {},
   "source": [
    "## Generate random data and make a plot of using the Franke function"
   ]
  },
  {
   "cell_type": "code",
   "execution_count": null,
   "metadata": {},
   "outputs": [],
   "source": [
    "from functions import franke_function\n",
    "fig = plt.figure(figsize = (10,6))\n",
    "ax = fig.gca(projection='3d')\n",
    "\n",
    "# Make data.\n",
    "x = np.arange(0, 1, 0.05)\n",
    "y = np.arange(0, 1, 0.05)\n",
    "x, y = np.meshgrid(x,y)\n",
    "\n",
    "z = franke_function(x, y)\n",
    "# Plot the surface.\n",
    "surf = ax.plot_surface(x, y, z, cmap=cm.coolwarm,\n",
    "                       linewidth=0, antialiased=False)\n",
    "\n",
    "# Customize the z axis.\n",
    "ax.set_zlim(-0.10, 1.40)\n",
    "ax.zaxis.set_major_locator(LinearLocator(10))\n",
    "ax.zaxis.set_major_formatter(FormatStrFormatter('%.02f'))\n",
    "\n",
    "# Add a color bar which maps values to colors.\n",
    "fig.colorbar(surf, shrink=0.5, aspect=5)\n",
    "\n",
    "plt.show()"
   ]
  },
  {
   "cell_type": "markdown",
   "metadata": {},
   "source": [
    "# Select the models\n",
    "\n",
    "## Select the models in terms of the parameters that minimize the MSE and the R2 scores"
   ]
  },
  {
   "cell_type": "markdown",
   "metadata": {},
   "source": [
    "Import our functions written for this project"
   ]
  },
  {
   "cell_type": "code",
   "execution_count": null,
   "metadata": {},
   "outputs": [],
   "source": [
    "import algorithms\n",
    "from model_selection0 import GridSearchNew #use Gridsearch.fit(x,y)\n",
    "from model_comparison0 import model_comparison0\n",
    "from functions import generateDesignmatrix"
   ]
  },
  {
   "cell_type": "markdown",
   "metadata": {},
   "source": [
    "# Generate a random sample to test our code with the Franke function"
   ]
  },
  {
   "cell_type": "code",
   "execution_count": null,
   "metadata": {},
   "outputs": [],
   "source": [
    "# we use this seed in order to raplicate the experiment with the same data\n",
    "np.random.seed(1000)  \n",
    "\n",
    "# Data\n",
    "x = np.random.rand(1000, )\n",
    "y = np.random.rand(1000, )\n",
    "z = franke_function(x, y)"
   ]
  },
  {
   "cell_type": "markdown",
   "metadata": {},
   "source": [
    "# Experimental setup\n",
    "\n",
    "## Define the models and the parameters that we want to compare.\n",
    "The model are Ordinary Least Squares (OLS), Ridge and Lasso.\n",
    "The parameter are []\n"
   ]
  },
  {
   "cell_type": "code",
   "execution_count": null,
   "metadata": {},
   "outputs": [],
   "source": [
    "models = {\n",
    "    'ridge': algorithms.Ridge, \n",
    "    \"ols\": algorithms.OLS, \n",
    "    \"lasso\": algorithms.Lasso\n",
    "}\n",
    "param_grid = {\n",
    "    'ridge': [0.01, 0.1, 1.0, 10.0], \n",
    "    'ols': [0], \n",
    "    'lasso': [0.01, 0.1, 1.0, 10.0]\n",
    "}"
   ]
  },
  {
   "cell_type": "markdown",
   "metadata": {},
   "source": [
    "# Perform experiment and collect results.\n",
    " \n",
    "The sample is splitted leaving 80% of the data for training the model and 20% for testing it.\n",
    "\n",
    "The polynomial order varies from 1 to 5."
   ]
  },
  {
   "cell_type": "code",
   "execution_count": null,
   "metadata": {},
   "outputs": [],
   "source": [
    "import matplotlib.pyplot as plt\n",
    "for p in np.arange(1,6,1):\n",
    "    print('The polynomial order is:', p)\n",
    "    X = generateDesignmatrix(p,x,y)\n",
    "    \n",
    "    results, z_pred_best = model_comparison0(\n",
    "    models, param_grid, X, z, split_size=0.2\n",
    "    )\n",
    "    \n",
    "    # write loop instead of repeating code!!!\n",
    "    \n",
    "    # One figure for MSE and all pol. orders\n",
    "\n",
    "    # Subplot for ridge\n",
    "    plt.figure(1, figsize = (10,6))\n",
    "    plt.subplot(221)\n",
    "    # log x-axis\n",
    "    xlogr = np.log10(param_grid['ridge'])\n",
    "    plt.plot(xlogr, results[\"mse\"][\"ridge\"][0], label='p = %s' % p) # plot ridge\n",
    "    ax = plt.gca()\n",
    "    plt.xticks(np.asarray(xlogr))\n",
    "    ax.set_xticklabels(param_grid['ridge'])\n",
    "    ax.set_title(\"Ridge\")\n",
    "    plt.xlabel('λ')\n",
    "    plt.ylabel('MSE')\n",
    "    #plt.legend(bbox_to_anchor=(1.05, 1), loc=2, borderaxespad=0.)\n",
    "\n",
    "    plt.subplot(222)\n",
    "    # log x-axis\n",
    "    xlogl = np.log10(param_grid['lasso'])\n",
    "    plt.plot(xlogl, results[\"mse\"][\"lasso\"][0], label='p = %s' % p) # plot ridge\n",
    "    ax = plt.gca()\n",
    "    plt.xticks(np.asarray(xlogl))\n",
    "    ax.set_xticklabels(param_grid['lasso'])\n",
    "    ax.set_title(\"Lasso\")\n",
    "    plt.xlabel('λ')\n",
    "    plt.ylabel('MSE')\n",
    "    ax.legend(bbox_to_anchor=(1.05, 0), loc='lower left', borderaxespad=0.)\n",
    "\n",
    "\n",
    "     # One figure for R2 and all pol. orders\n",
    "    # Subplot for ridge\n",
    "    plt.subplot(223)\n",
    "    # log x-axis\n",
    "    xlogr = np.log10(param_grid['ridge'])\n",
    "    plt.plot(xlogr, results[\"r2\"][\"ridge\"][0], label='p = %s' % p) # plot ridge\n",
    "    ax = plt.gca()\n",
    "    plt.xticks(np.asarray(xlogr))\n",
    "    ax.set_xticklabels(param_grid['ridge'])\n",
    "    ax.set_title(\"Ridge\")\n",
    "    plt.xlabel('λ')\n",
    "    plt.ylabel('R2 score')\n",
    "    #plt.legend(bbox_to_anchor=(1.05, 1), loc=2, borderaxespad=0.)\n",
    "\n",
    "    plt.subplot(224)\n",
    "    # log x-axis\n",
    "    xlogl = np.log10(param_grid['lasso'])\n",
    "    plt.plot(xlogl, results[\"r2\"][\"lasso\"][0], label='p = %s' % p) # plot ridge\n",
    "    ax = plt.gca()\n",
    "    plt.xticks(np.asarray(xlogl))\n",
    "    ax.set_xticklabels(param_grid['lasso'])\n",
    "    ax.set_title(\"Lasso\")\n",
    "    plt.xlabel('λ')\n",
    "    plt.ylabel('R2 score')\n",
    "\n",
    "    \n",
    "plt.savefig(\"model_selection.png\")\n",
    "plt.tight_layout()    \n",
    "plt.show()\n",
    "    \n",
    "    "
   ]
  },
  {
   "cell_type": "code",
   "execution_count": null,
   "metadata": {},
   "outputs": [],
   "source": [
    "results"
   ]
  },
  {
   "cell_type": "code",
   "execution_count": null,
   "metadata": {},
   "outputs": [],
   "source": [
    "len(z_pred_best)"
   ]
  },
  {
   "cell_type": "markdown",
   "metadata": {},
   "source": [
    "# Run the code with SRTM data\n",
    "\n",
    "## We selected images from Flekkefjord (Norway) and Montevideo (Uruguay)\n"
   ]
  },
  {
   "cell_type": "code",
   "execution_count": null,
   "metadata": {},
   "outputs": [],
   "source": [
    "# Load the terrain\n",
    "terrain_flekkefjord = imread('Montevideo.tif')\n",
    "# Show the terrain\n",
    "plt.figure()\n",
    "plt.title('Terrain over Flekkefjord')\n",
    "plt.imshow(terrain_flekkefjord, cmap='gray')\n",
    "plt.xlabel('X')\n",
    "plt.ylabel('Y')\n",
    "plt.show()"
   ]
  },
  {
   "cell_type": "markdown",
   "metadata": {},
   "source": [
    "We subset the data, and generate a squared not singular design matrix."
   ]
  },
  {
   "cell_type": "code",
   "execution_count": null,
   "metadata": {},
   "outputs": [],
   "source": [
    "terrain_flekkefjord = terrain_flekkefjord[0:100,0:100 ]\n",
    "terrain_flekkefjord.shape\n",
    "\n",
    "\n",
    "x = np.linspace(1, 100, num=100)\n",
    "y = np.linspace(1+80, 100+80, num=100)\n",
    "\n",
    "x = np.arange(100)\n",
    "y = 2.5*x\n",
    "# Generate a grid\n",
    "x = np.squeeze(np.tile(x,[1,100] ))\n",
    "y = np.squeeze(np.tile(y,[1,100] )) \n",
    "z = np.ndarray.flatten(terrain_flekkefjord)\n",
    "\n",
    "p = 5\n",
    "X = generateDesignmatrix(p,x,y)\n"
   ]
  },
  {
   "cell_type": "code",
   "execution_count": null,
   "metadata": {},
   "outputs": [],
   "source": [
    "# Experimental setup\n",
    "# Don't use alpha=0.001 because it can cause precision problems\n",
    "\n",
    "results_flekkefjord =  model_comparison0(\n",
    "    models, param_grid, X, z, split_size=0.2\n",
    "    )"
   ]
  },
  {
   "cell_type": "code",
   "execution_count": null,
   "metadata": {},
   "outputs": [],
   "source": [
    "results_flekkefjord"
   ]
  },
  {
   "cell_type": "code",
   "execution_count": null,
   "metadata": {},
   "outputs": [],
   "source": [
    "models.items"
   ]
  },
  {
   "cell_type": "markdown",
   "metadata": {},
   "source": [
    "Follow example in Piazza"
   ]
  },
  {
   "cell_type": "code",
   "execution_count": null,
   "metadata": {},
   "outputs": [],
   "source": [
    "import numpy as np\n",
    "# from scipy.misc import imread\n",
    "from imageio import imread\n",
    "import matplotlib.pyplot as plt\n",
    "from mpl_toolkits.mplot3d import Axes3D\n",
    "from matplotlib import cm\n",
    "\n",
    "\n",
    "def surface_plot(surface, title, surface1=None, title1 = None):\n",
    "    M, N = surface.shape\n",
    "\n",
    "    ax_rows = np.arange(M)\n",
    "    ax_cols = np.arange(N)\n",
    "\n",
    "    [X, Y] = np.meshgrid(ax_cols, ax_rows)\n",
    "\n",
    "    fig = plt.figure()\n",
    "    # Plot the predicted and the original surface\n",
    "    if surface1 is not None:\n",
    "        ax = fig.add_subplot(1, 2, 1, projection='3d')\n",
    "        ax.plot_surface(X, Y, surface, cmap=cm.viridis, linewidth=0)\n",
    "        plt.title(title)\n",
    "\n",
    "        ax = fig.add_subplot(1, 2, 2, projection='3d')\n",
    "        ax.plot_surface(X, Y, surface1, cmap=cm.viridis, linewidth=0)\n",
    "        plt.title(title)\n",
    "    # Plot only the predicted surface\n",
    "    else:\n",
    "        ax = fig.gca(projection='3d')\n",
    "        ax.plot_surface(X, Y, surface, cmap=cm.viridis, linewidth=0)\n",
    "        plt.title(title)\n",
    "\n",
    "\n",
    "def predict(rows, cols, beta):\n",
    "    out = np.zeros((np.size(rows), np.size(cols)))\n",
    "\n",
    "    for i, y_ in enumerate(rows):\n",
    "        for j, x_ in enumerate(cols):\n",
    "            data_vec = np.array([1, x_, y_, x_ ** 2, x_ * y_, y_ ** 2, \\\n",
    "                                 x_ ** 3, x_ ** 2 * y_, x_ * y_ ** 2, y_ ** 3, \\\n",
    "                                 x_ ** 4, x_ ** 3 * y_, x_ ** 2 * y_ ** 2, x_ * y_ ** 3, y_ ** 4, \\\n",
    "                                 x_ ** 5, x_ ** 4 * y_, x_ ** 3 * y_ ** 2, x_ ** 2 * y_ ** 3, x_ * y_ ** 4,\n",
    "                                 y_ ** 5])  # ,\\\n",
    "            #    x_**6, x_**5*y_, x_**4*y_**2, x_**3*y_**3,x_**2*y_**4, x_*y_**5, y_**6, \\\n",
    "            #    x_**7, x_**6*y_, x_**5*y_**2, x_**4*y_**3,x_**3*y_**4, x_**2*y_**5, x_*y_**6, y_**7, \\\n",
    "            #    x_**8, x_**7*y_, x_**6*y_**2, x_**5*y_**3,x_**4*y_**4, x_**3*y_**5, x_**2*y_**6, x_*y_**7,y_**8, \\\n",
    "            #    x_**9, x_**8*y_, x_**7*y_**2, x_**6*y_**3,x_**5*y_**4, x_**4*y_**5, x_**3*y_**6, x_**2*y_**7,x_*y_**8, y_**9])\n",
    "            out[i, j] = data_vec @ beta\n",
    "\n",
    "    return out\n",
    "\n",
    "\n",
    "from sklearn.metrics import mean_squared_error\n",
    "\n",
    "if __name__ == '__main__':\n",
    "\n",
    "    # Load the terrain\n",
    "    terrain1 = imread('Montevideo.tif')\n",
    "    [n, m] = terrain1.shape\n",
    "\n",
    "    ## Find some random patches within the dataset and perform a fit\n",
    "\n",
    "    patch_size_row = 50\n",
    "    patch_size_col = 50\n",
    "\n",
    "    # Define their axes\n",
    "    rows = np.linspace(0, 1, patch_size_row)\n",
    "    cols = np.linspace(0, 1, patch_size_col)\n",
    "\n",
    "    [C, R] = np.meshgrid(cols, rows)\n",
    "\n",
    "    x = C.reshape(-1, 1)\n",
    "    y = R.reshape(-1, 1)\n",
    "\n",
    "    num_data = patch_size_row * patch_size_col\n",
    "\n",
    "    # Find the start indices of each patch\n",
    "\n",
    "    num_patches = 5\n",
    "\n",
    "    np.random.seed(41555)\n",
    "\n",
    "    row_starts = np.random.randint(0, n - patch_size_row, num_patches)\n",
    "    col_starts = np.random.randint(0, m - patch_size_col, num_patches)\n",
    "\n",
    "    for i, row_start, col_start in zip(np.arange(num_patches), row_starts, col_starts):\n",
    "        row_end = row_start + patch_size_row\n",
    "        col_end = col_start + patch_size_col\n",
    "\n",
    "        patch = terrain1[row_start:row_end, col_start:col_end]\n",
    "\n",
    "        z = patch.reshape(-1, 1)\n",
    "\n",
    "        # Perform OLS fit\n",
    "        data = np.c_[np.ones((num_data, 1)), x, y, \\\n",
    "                     x ** 2, x * y, y ** 2, \\\n",
    "                     x ** 3, x ** 2 * y, x * y ** 2, y ** 3, \\\n",
    "                     x ** 4, x ** 3 * y, x ** 2 * y ** 2, x * y ** 3, y ** 4, \\\n",
    "                     x ** 5, x ** 4 * y, x ** 3 * y ** 2, x ** 2 * y ** 3, x * y ** 4, y ** 5]  # , \\\n",
    "        # x**6, x**5*y, x**4*y**2, x**3*y**3,x**2*y**4, x*y**5, y**6, \\\n",
    "        # x**7, x**6*y, x**5*y**2, x**4*y**3,x**3*y**4, x**2*y**5, x*y**6, y**7, \\\n",
    "        # x**8, x**7*y, x**6*y**2, x**5*y**3,x**4*y**4, x**3*y**5, x**2*y**6, x*y**7,y**8, \\\n",
    "        # x**9, x**8*y, x**7*y**2, x**6*y**3,x**5*y**4, x**4*y**5, x**3*y**6, x**2*y**7,x*y**8, y**9]\n",
    "\n",
    "        beta_ols = np.linalg.inv(data.T @ data) @ data.T @ z\n",
    "\n",
    "        fitted_patch = predict(rows, cols, beta_ols)\n",
    "\n",
    "        mse = np.sum((fitted_patch - patch) ** 2) / num_data\n",
    "        R2 = 1 - np.sum((fitted_patch - patch) ** 2) / np.sum((patch - np.mean(patch)) ** 2)\n",
    "        var = np.sum((fitted_patch - np.mean(fitted_patch)) ** 2) / num_data\n",
    "        bias = np.sum((patch - np.mean(fitted_patch)) ** 2) / num_data\n",
    "\n",
    "        print(\"patch %d, from (%d, %d) to (%d, %d)\" % (i + 1, row_start, col_start, row_end, col_end))\n",
    "        print(\"mse: %g\\nR2: %g\" % (mse, R2))\n",
    "        print(\"variance: %g\" % var)\n",
    "        print(\"bias: %g\\n\" % bias)\n",
    "\n",
    "        surface_plot(fitted_patch, 'Fitted terrain surface', patch, 'Real terrain surface')\n",
    "        plt.show()\n",
    "        \n",
    "        \n",
    "        \n",
    "\n",
    "        \n",
    "        \n",
    "        \n",
    "        \n",
    "        p= 5\n",
    "        X = generateDesignmatrix(p,rows,cols)\n",
    "        \n",
    "        \n",
    "        # results_flekkefjord =  model_comparison0(\n",
    "        #    models, param_grid, X, z, split_size=0.2\n",
    "        #)"
   ]
  },
  {
   "cell_type": "code",
   "execution_count": null,
   "metadata": {},
   "outputs": [],
   "source": [
    "X\n"
   ]
  },
  {
   "cell_type": "code",
   "execution_count": null,
   "metadata": {},
   "outputs": [],
   "source": [
    "rows"
   ]
  },
  {
   "cell_type": "code",
   "execution_count": null,
   "metadata": {},
   "outputs": [],
   "source": []
  },
  {
   "cell_type": "code",
   "execution_count": null,
   "metadata": {},
   "outputs": [],
   "source": []
  },
  {
   "cell_type": "code",
   "execution_count": null,
   "metadata": {},
   "outputs": [],
   "source": []
  },
  {
   "cell_type": "code",
   "execution_count": null,
   "metadata": {},
   "outputs": [],
   "source": []
  },
  {
   "cell_type": "code",
   "execution_count": null,
   "metadata": {},
   "outputs": [],
   "source": []
  },
  {
   "cell_type": "code",
   "execution_count": null,
   "metadata": {},
   "outputs": [],
   "source": []
  },
  {
   "cell_type": "code",
   "execution_count": null,
   "metadata": {},
   "outputs": [],
   "source": []
  },
  {
   "cell_type": "code",
   "execution_count": null,
   "metadata": {},
   "outputs": [],
   "source": []
  },
  {
   "cell_type": "code",
   "execution_count": null,
   "metadata": {},
   "outputs": [],
   "source": []
  }
 ],
 "metadata": {
  "kernelspec": {
   "display_name": "Python 3",
   "language": "python",
   "name": "python3"
  },
  "language_info": {
   "codemirror_mode": {
    "name": "ipython",
    "version": 3
   },
   "file_extension": ".py",
   "mimetype": "text/x-python",
   "name": "python",
   "nbconvert_exporter": "python",
   "pygments_lexer": "ipython3",
   "version": "3.7.0"
  }
 },
 "nbformat": 4,
 "nbformat_minor": 2
}
