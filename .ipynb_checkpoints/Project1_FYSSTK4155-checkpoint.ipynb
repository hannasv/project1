{
 "cells": [
  {
   "cell_type": "markdown",
   "metadata": {},
   "source": [
    "# Project 1: fys-stk4155"
   ]
  },
  {
   "cell_type": "markdown",
   "metadata": {},
   "source": [
    "Import python packages"
   ]
  },
  {
   "cell_type": "code",
   "execution_count": null,
   "metadata": {},
   "outputs": [],
   "source": [
    "from mpl_toolkits.mplot3d import Axes3D\n",
    "import matplotlib.pyplot as plt\n",
    "from matplotlib import cm\n",
    "from matplotlib.ticker import LinearLocator, FormatStrFormatter\n",
    "import numpy as np\n",
    "from random import random, seed\n",
    "from imageio import imread"
   ]
  },
  {
   "cell_type": "markdown",
   "metadata": {},
   "source": [
    "## Generate random data and make a plot of using the Franke function"
   ]
  },
  {
   "cell_type": "code",
   "execution_count": null,
   "metadata": {},
   "outputs": [],
   "source": [
    "from functions import franke_function\n",
    "fig = plt.figure(figsize = (10,6))\n",
    "ax = fig.gca(projection='3d')\n",
    "\n",
    "# Make data.\n",
    "x = np.arange(0, 1, 0.05)\n",
    "y = np.arange(0, 1, 0.05)\n",
    "x, y = np.meshgrid(x,y)\n",
    "\n",
    "z = franke_function(x, y)\n",
    "# Plot the surface.\n",
    "surf = ax.plot_surface(x, y, z, cmap=cm.coolwarm,\n",
    "                       linewidth=0, antialiased=False)\n",
    "\n",
    "# Customize the z axis.\n",
    "ax.set_zlim(-0.10, 1.40)\n",
    "ax.zaxis.set_major_locator(LinearLocator(10))\n",
    "ax.zaxis.set_major_formatter(FormatStrFormatter('%.02f'))\n",
    "\n",
    "# Add a color bar which maps values to colors.\n",
    "fig.colorbar(surf, shrink=0.5, aspect=5)\n",
    "\n",
    "plt.show()"
   ]
  },
  {
   "cell_type": "markdown",
   "metadata": {},
   "source": [
    "# Select the models\n",
    "\n",
    "## Select the models in terms of the parameters that minimize the MSE and the R2 scores"
   ]
  },
  {
   "cell_type": "markdown",
   "metadata": {},
   "source": [
    "Import our functions written for this project"
   ]
  },
  {
   "cell_type": "code",
   "execution_count": null,
   "metadata": {},
   "outputs": [],
   "source": [
    "import algorithms\n",
    "from model_selection0 import GridSearchNew #use Gridsearch.fit(x,y)\n",
    "from model_comparison0 import model_comparison0\n",
    "from functions import generateDesignmatrix"
   ]
  },
  {
   "cell_type": "markdown",
   "metadata": {},
   "source": [
    "# Generate a random sample to test our code with the Franke function"
   ]
  },
  {
   "cell_type": "code",
   "execution_count": null,
   "metadata": {},
   "outputs": [],
   "source": [
    "# we use this seed in order to raplicate the experiment with the same data\n",
    "np.random.seed(1000)  \n",
    "\n",
    "# Data\n",
    "x = np.random.rand(1000, )\n",
    "y = np.random.rand(1000, )\n",
    "z = franke_function(x, y)"
   ]
  },
  {
   "cell_type": "markdown",
   "metadata": {},
   "source": [
    "# Experimental setup\n",
    "\n",
    "## Define the models and the parameters that we want to compare.\n",
    "The model are Ordinary Least Squares (OLS), Ridge and Lasso.\n",
    "The parameter are []\n"
   ]
  },
  {
   "cell_type": "code",
   "execution_count": null,
   "metadata": {},
   "outputs": [],
   "source": [
    "models = {\n",
    "    'ridge': algorithms.Ridge, \n",
    "    \"ols\": algorithms.OLS, \n",
    "    \"lasso\": algorithms.Lasso\n",
    "}\n",
    "param_grid = {\n",
    "    'ridge': [0.01, 0.1, 1.0, 10.0], \n",
    "    'ols': [0], \n",
    "    'lasso': [0.01, 0.1, 1.0, 10.0]\n",
    "}"
   ]
  },
  {
   "cell_type": "markdown",
   "metadata": {},
   "source": [
    "# Perform experiment and collect results.\n",
    " \n",
    "The sample is splitted leaving 80% of the data for training the model and 20% for testing it.\n",
    "\n",
    "The polynomial order varies from 1 to 5."
   ]
  },
  {
   "cell_type": "code",
   "execution_count": null,
   "metadata": {},
   "outputs": [],
   "source": [
    "import matplotlib.pyplot as plt\n",
    "for p in np.arange(1,6,1):\n",
    "    print('The polynomial order is:', p)\n",
    "    X = generateDesignmatrix(p,x,y)\n",
    "    \n",
    "    results = model_comparison0(\n",
    "    models, param_grid, X, z, split_size=0.2\n",
    "    )\n",
    "    \n",
    "    # write loop instead of repeating code!!!\n",
    "    \n",
    "    # One figure for MSE and all pol. orders\n",
    "\n",
    "    # Subplot for ridge\n",
    "    plt.figure(1, figsize = (10,6))\n",
    "    plt.subplot(221)\n",
    "    # log x-axis\n",
    "    xlogr = np.log10(param_grid['ridge'])\n",
    "    plt.plot(xlogr, results[\"mse\"][\"ridge\"][0], label='p = %s' % p) # plot ridge\n",
    "    ax = plt.gca()\n",
    "    plt.xticks(np.asarray(xlogr))\n",
    "    ax.set_xticklabels(param_grid['ridge'])\n",
    "    ax.set_title(\"Ridge\")\n",
    "    plt.xlabel('λ')\n",
    "    plt.ylabel('MSE')\n",
    "    #plt.legend(bbox_to_anchor=(1.05, 1), loc=2, borderaxespad=0.)\n",
    "\n",
    "    plt.subplot(222)\n",
    "    # log x-axis\n",
    "    xlogl = np.log10(param_grid['lasso'])\n",
    "    plt.plot(xlogl, results[\"mse\"][\"lasso\"][0], label='p = %s' % p) # plot ridge\n",
    "    ax = plt.gca()\n",
    "    plt.xticks(np.asarray(xlogl))\n",
    "    ax.set_xticklabels(param_grid['lasso'])\n",
    "    ax.set_title(\"Lasso\")\n",
    "    plt.xlabel('λ')\n",
    "    plt.ylabel('MSE')\n",
    "    ax.legend(bbox_to_anchor=(1.05, 0), loc='lower left', borderaxespad=0.)\n",
    "\n",
    "\n",
    "     # One figure for R2 and all pol. orders\n",
    "    # Subplot for ridge\n",
    "    plt.subplot(223)\n",
    "    # log x-axis\n",
    "    xlogr = np.log10(param_grid['ridge'])\n",
    "    plt.plot(xlogr, results[\"r2\"][\"ridge\"][0], label='p = %s' % p) # plot ridge\n",
    "    ax = plt.gca()\n",
    "    plt.xticks(np.asarray(xlogr))\n",
    "    ax.set_xticklabels(param_grid['ridge'])\n",
    "    ax.set_title(\"Ridge\")\n",
    "    plt.xlabel('λ')\n",
    "    plt.ylabel('R2 score')\n",
    "    #plt.legend(bbox_to_anchor=(1.05, 1), loc=2, borderaxespad=0.)\n",
    "\n",
    "    plt.subplot(224)\n",
    "    # log x-axis\n",
    "    xlogl = np.log10(param_grid['lasso'])\n",
    "    plt.plot(xlogl, results[\"r2\"][\"lasso\"][0], label='p = %s' % p) # plot ridge\n",
    "    ax = plt.gca()\n",
    "    plt.xticks(np.asarray(xlogl))\n",
    "    ax.set_xticklabels(param_grid['lasso'])\n",
    "    ax.set_title(\"Lasso\")\n",
    "    plt.xlabel('λ')\n",
    "    plt.ylabel('R2 score')\n",
    "\n",
    "    \n",
    "plt.savefig(\"model_selection.png\")\n",
    "plt.tight_layout()    \n",
    "plt.show()\n",
    "    \n",
    "    "
   ]
  },
  {
   "cell_type": "code",
   "execution_count": null,
   "metadata": {},
   "outputs": [],
   "source": [
    "results"
   ]
  },
  {
   "cell_type": "markdown",
   "metadata": {},
   "source": [
    "# Run the code with SRTM data\n",
    "\n",
    "## We selected images from Flekkefjord (Norway) and Montevideo (Uruguay)\n"
   ]
  },
  {
   "cell_type": "code",
   "execution_count": null,
   "metadata": {},
   "outputs": [],
   "source": [
    "# Load the terrain\n",
    "terrain_flekkefjord = imread('Montevideo.tif')\n",
    "# Show the terrain\n",
    "plt.figure()\n",
    "plt.title('Terrain over Flekkefjord')\n",
    "plt.imshow(terrain_flekkefjord, cmap='gray')\n",
    "plt.xlabel('X')\n",
    "plt.ylabel('Y')\n",
    "plt.show()"
   ]
  },
  {
   "cell_type": "markdown",
   "metadata": {},
   "source": [
    "We subset the data, and generate a squared not singular design matrix."
   ]
  },
  {
   "cell_type": "code",
   "execution_count": null,
   "metadata": {},
   "outputs": [],
   "source": [
    "terrain_flekkefjord = terrain_flekkefjord[0:100,0:100 ]\n",
    "terrain_flekkefjord.shape\n",
    "\n",
    "\n",
    "x = np.linspace(1, 100, num=100)\n",
    "y = np.linspace(1+80, 100+80, num=100)\n",
    "\n",
    "x = np.arange(100)\n",
    "y = 2.5*x\n",
    "# Generate a grid\n",
    "x = np.squeeze(np.tile(x,[1,100] ))\n",
    "y = np.squeeze(np.tile(y,[1,100] )) \n",
    "z = np.ndarray.flatten(terrain_flekkefjord)\n",
    "\n",
    "p = 5\n",
    "X = generateDesignmatrix(p,x,y)\n"
   ]
  },
  {
   "cell_type": "code",
   "execution_count": null,
   "metadata": {},
   "outputs": [],
   "source": [
    "# Experimental setup\n",
    "# Don't use alpha=0.001 because it can cause precision problems\n",
    "\n",
    "results_flekkefjord =  model_comparison0(\n",
    "    models, param_grid, X, z, split_size=0.2\n",
    "    )"
   ]
  },
  {
   "cell_type": "code",
   "execution_count": null,
   "metadata": {},
   "outputs": [],
   "source": [
    "results_flekkefjord"
   ]
  },
  {
   "cell_type": "code",
   "execution_count": null,
   "metadata": {},
   "outputs": [],
   "source": []
  },
  {
   "cell_type": "code",
   "execution_count": null,
   "metadata": {},
   "outputs": [],
   "source": []
  },
  {
   "cell_type": "code",
   "execution_count": null,
   "metadata": {},
   "outputs": [],
   "source": []
  },
  {
   "cell_type": "code",
   "execution_count": null,
   "metadata": {},
   "outputs": [],
   "source": []
  }
 ],
 "metadata": {
  "kernelspec": {
   "display_name": "Python 3",
   "language": "python",
   "name": "python3"
  },
  "language_info": {
   "codemirror_mode": {
    "name": "ipython",
    "version": 3
   },
   "file_extension": ".py",
   "mimetype": "text/x-python",
   "name": "python",
   "nbconvert_exporter": "python",
   "pygments_lexer": "ipython3",
   "version": "3.7.0"
  }
 },
 "nbformat": 4,
 "nbformat_minor": 2
}
