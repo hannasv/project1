{
 "cells": [
  {
   "cell_type": "markdown",
   "metadata": {},
   "source": [
    "# Test the functions in Project 1"
   ]
  },
  {
   "cell_type": "markdown",
   "metadata": {},
   "source": [
    "This is one of three mandatory projects of the course FYS-STK4155 (University of Oslo). In this file, we test the performance of our own functions by comparing them with the functions in the scikit learn python package."
   ]
  },
  {
   "cell_type": "markdown",
   "metadata": {},
   "source": [
    "The Frank2 function was given for this project, so we are not going to test it."
   ]
  },
  {
   "cell_type": "code",
   "execution_count": 1,
   "metadata": {
    "collapsed": true
   },
   "outputs": [],
   "source": [
    "def franke_function(x, y):\n",
    "    term1 = 0.75 * np.exp(-(0.25*(9*x-2)**2) - 0.25*((9*y-2)**2))\n",
    "    term2 = 0.75 * np.exp(-((9*x+1)**2) / 49.0 - 0.1*(9*y+1))\n",
    "    term3 = 0.5 * np.exp(-(9*x-7)**2/4.0 - 0.25*((9*y-3)**2))\n",
    "    term4 = -0.2 * np.exp(-(9*x-4)**2 - (9*y-7)**2)\n",
    "    return term1 + term2 + term3 + term4"
   ]
  },
  {
   "cell_type": "markdown",
   "metadata": {},
   "source": [
    "Import packages"
   ]
  },
  {
   "cell_type": "code",
   "execution_count": 2,
   "metadata": {
    "collapsed": true
   },
   "outputs": [],
   "source": [
    "import numpy as np\n",
    "import matplotlib.pyplot as plt \n",
    "from sklearn.linear_model import LinearRegression \n",
    "from sklearn.linear_model import Ridge\n",
    "from sklearn.metrics import mean_squared_error, r2_score, mean_squared_log_error, mean_absolute_error\n",
    "from sklearn.preprocessing import PolynomialFeatures\n",
    "from sklearn.pipeline import make_pipeline\n",
    "import algorithms\n",
    "import model_selection_new \n",
    "from model_comparison_new import model_comparison_new\n",
    "from functions import generateDesignmatrix"
   ]
  },
  {
   "cell_type": "markdown",
   "metadata": {},
   "source": [
    "#  1) generateDesignmatrix in functions.py"
   ]
  },
  {
   "cell_type": "markdown",
   "metadata": {},
   "source": [
    "This functions generates a design matrix for the arrays x and y, and a given polynonial order p. The arrays x and y are the ones that define the meshgrid for the calculation of z with the Franke function."
   ]
  },
  {
   "cell_type": "code",
   "execution_count": 3,
   "metadata": {},
   "outputs": [
    {
     "data": {
      "text/plain": [
       "'\"\\ndef generateDesignmatrix(p, x, y): \\n    m = int((p**2+3*p+2)/2) # returnerer heltall for p = [1:5]\\n    X = np.zeros((len(x), m))\\n    X[:,0] = 1\\n    counter = 1\\n    for i in range(1, p+1):\\n        for j in range(i+1):\\n            X[:,counter] = x**(i-j) * y**j\\n            counter+=1\\n    return X\\n    '"
      ]
     },
     "execution_count": 3,
     "metadata": {},
     "output_type": "execute_result"
    }
   ],
   "source": [
    "\n",
    "\"\"\"\"\n",
    "def generateDesignmatrix(p, x, y): \n",
    "    m = int((p**2+3*p+2)/2) # returnerer heltall for p = [1:5]\n",
    "    X = np.zeros((len(x), m))\n",
    "    X[:,0] = 1\n",
    "    counter = 1\n",
    "    for i in range(1, p+1):\n",
    "        for j in range(i+1):\n",
    "            X[:,counter] = x**(i-j) * y**j\n",
    "            counter+=1\n",
    "    return X\n",
    "    \"\"\""
   ]
  },
  {
   "cell_type": "code",
   "execution_count": 4,
   "metadata": {
    "collapsed": true
   },
   "outputs": [],
   "source": [
    "np.random.seed(1000)\n",
    "# We work only with squared matrices. This implies that the length of x and y is the same.\n",
    "m = 5  # m defines the size of the meshgrid.\n",
    "x = np.random.rand(m, )\n",
    "y = np.random.rand(m, )\n",
    "z = franke_function(x, y)\n",
    "\n",
    "# x, y, and z are arrays. The length of x and y is m, which determines the dimensions of z (mxm)."
   ]
  },
  {
   "cell_type": "code",
   "execution_count": 5,
   "metadata": {},
   "outputs": [
    {
     "name": "stdout",
     "output_type": "stream",
     "text": [
      "array x: [0.65358959 0.11500694 0.95028286 0.4821914  0.87247454]\n",
      "array y: [0.21233268 0.04070962 0.39719446 0.2331322  0.84174072]\n",
      "array z: [0.50251014 0.90614694 0.32573166 0.56740664 0.0665042 ]\n"
     ]
    }
   ],
   "source": [
    "print('array x:', x)\n",
    "print('array y:', y)\n",
    "print('array z:', z)"
   ]
  },
  {
   "cell_type": "code",
   "execution_count": 6,
   "metadata": {},
   "outputs": [
    {
     "name": "stdout",
     "output_type": "stream",
     "text": [
      "Design matrix: [[1.]\n",
      " [1.]\n",
      " [1.]\n",
      " [1.]\n",
      " [1.]]\n"
     ]
    }
   ],
   "source": [
    "# Test the designMatrix for p=0. \n",
    "# When p=0 we expect the designMatrix functions to generate a matrix X which only consist of \n",
    "# the terms that correspond to the intercept.\n",
    "# This means that X has only a column of length equal to the length of x and y, and all its elements are 1.\n",
    "p = 0 # [1:5]\n",
    "X = generateDesignmatrix(p,x,y)\n",
    "print('Design matrix:', X) "
   ]
  },
  {
   "cell_type": "code",
   "execution_count": 7,
   "metadata": {},
   "outputs": [
    {
     "name": "stdout",
     "output_type": "stream",
     "text": [
      "Design matrix: [[1.         0.65358959 0.21233268]\n",
      " [1.         0.11500694 0.04070962]\n",
      " [1.         0.95028286 0.39719446]\n",
      " [1.         0.4821914  0.2331322 ]\n",
      " [1.         0.87247454 0.84174072]]\n"
     ]
    }
   ],
   "source": [
    "# Test the designMatrix for p=0. \n",
    "# When p=0 we expect the designMatrix functions to generate a matrix X with three columns, the first filled with ones, \n",
    "# as we have seen before, and the second and third with the values of x and y.\n",
    "p = 1 # [1:5]\n",
    "X = generateDesignmatrix(p,x,y)\n",
    "print('Design matrix:', X) "
   ]
  },
  {
   "cell_type": "code",
   "execution_count": 8,
   "metadata": {
    "collapsed": true
   },
   "outputs": [],
   "source": [
    "# More general, the columns of the design matrix will be:\n",
    "# ones, x, y, x^2, y^2, xy,..., x^py^0,..., x^(p-i)y^i, ..., x^0y^p.\n",
    "# Thus, for a given p, we have t = (p^2+3p+2)/2 number of columns in the design matrix X."
   ]
  },
  {
   "cell_type": "code",
   "execution_count": 9,
   "metadata": {},
   "outputs": [
    {
     "name": "stdout",
     "output_type": "stream",
     "text": [
      "Design matrix: [[1.00000000e+00 6.53589585e-01 2.12332681e-01 4.27179346e-01\n",
      "  1.38778429e-01 4.50851674e-02 2.79199972e-01 9.07041358e-02\n",
      "  2.94671959e-02 9.57305446e-03]\n",
      " [1.00000000e+00 1.15006943e-01 4.07096248e-02 1.32265970e-02\n",
      "  4.68188950e-03 1.65727355e-03 1.52115049e-03 5.38449799e-04\n",
      "  1.90597965e-04 6.74669843e-05]\n",
      " [1.00000000e+00 9.50282864e-01 3.97194461e-01 9.03037522e-01\n",
      "  3.77447090e-01 1.57763440e-01 8.58141083e-01 3.58681502e-01\n",
      "  1.49919894e-01 6.26627646e-02]\n",
      " [1.00000000e+00 4.82191401e-01 2.33132197e-01 2.32508548e-01\n",
      "  1.12414341e-01 5.43506214e-02 1.12113622e-01 5.42052286e-02\n",
      "  2.62074023e-02 1.26708798e-02]\n",
      " [1.00000000e+00 8.72474535e-01 8.41740724e-01 7.61211815e-01\n",
      "  7.34397347e-01 7.08527447e-01 6.64137924e-01 6.40742984e-01\n",
      "  6.18172155e-01 5.96396406e-01]]\n"
     ]
    }
   ],
   "source": [
    "# Now, let's try with a higher order poynomial.\n",
    "p = 3\n",
    "\n",
    "X = generateDesignmatrix(p,x,y)\n",
    "print('Design matrix:', X) \n"
   ]
  },
  {
   "cell_type": "code",
   "execution_count": 10,
   "metadata": {},
   "outputs": [
    {
     "name": "stdout",
     "output_type": "stream",
     "text": [
      "Has the ninth column in X the values we expect: [ True  True  True  True  True]\n"
     ]
    }
   ],
   "source": [
    "# As expected, X has 10 columns. t = (3^3 + 3*3 + 2)/2 = 10\n",
    "# The first column consists of ones, the second and the third are the vectors x and y.\n",
    "\n",
    "# Let's check wether the column number 9 is equal to x*y^2\n",
    "\n",
    "y2 = y**2\n",
    "col9 = X[:, 8]\n",
    "\n",
    "print('Has the ninth column in X the values we expect:', col9==x*y2)"
   ]
  },
  {
   "cell_type": "markdown",
   "metadata": {},
   "source": [
    "# 2) OLS"
   ]
  },
  {
   "cell_type": "markdown",
   "metadata": {},
   "source": [
    "We test our own code for the OLS comparing it with the scikit-learn function\n",
    "When running OLS, x cannot be equal to y since that generates a singular design matrix, and our code will not run."
   ]
  },
  {
   "cell_type": "code",
   "execution_count": 11,
   "metadata": {
    "collapsed": true
   },
   "outputs": [],
   "source": [
    "x = np.linspace(1, 10, num=10)\n",
    "y = np.linspace(1.1, 10.1, num=10)\n",
    "z = franke_function(x, y)\n",
    "p = 2\n",
    "X = generateDesignmatrix(p,x,y)"
   ]
  },
  {
   "cell_type": "code",
   "execution_count": 12,
   "metadata": {},
   "outputs": [
    {
     "data": {
      "text/plain": [
       "array([ 0.02929223, -0.01249085,  0.00209199, -0.00138651,  0.00031428,\n",
       "        0.00180701])"
      ]
     },
     "execution_count": 12,
     "metadata": {},
     "output_type": "execute_result"
    }
   ],
   "source": [
    "our_ols = algorithms.OLS()\n",
    "our_ols.fit(X,z)\n",
    "our_betas = our_ols.beta\n",
    "our_betas"
   ]
  },
  {
   "cell_type": "code",
   "execution_count": 13,
   "metadata": {},
   "outputs": [
    {
     "data": {
      "text/plain": [
       "LinearRegression(copy_X=True, fit_intercept=False, n_jobs=1, normalize=False)"
      ]
     },
     "execution_count": 13,
     "metadata": {},
     "output_type": "execute_result"
    }
   ],
   "source": [
    "# Create linear regression object\n",
    "scikit_ols = LinearRegression(fit_intercept=False)\n",
    "\n",
    "# Train the model using the training sets\n",
    "scikit_ols.fit(X, z)"
   ]
  },
  {
   "cell_type": "code",
   "execution_count": 14,
   "metadata": {},
   "outputs": [
    {
     "data": {
      "text/plain": [
       "array([ 0.02986962, -0.00647389, -0.00348693,  0.00079619,  0.0001488 ,\n",
       "       -0.00019989])"
      ]
     },
     "execution_count": 14,
     "metadata": {},
     "output_type": "execute_result"
    }
   ],
   "source": [
    "# get the coefficients (?)\n",
    "scikit_ols.coef_[0:9]"
   ]
  },
  {
   "cell_type": "markdown",
   "metadata": {},
   "source": [
    "In the example above, all the coefficients are close to zero, both with our function and with the scikit.learn function. Nevertheless, we notice that the signs of some of the coefficients are different. The intercept is the same.\n",
    "\n",
    "Now, we try with random selection of x and y and some larger samples"
   ]
  },
  {
   "cell_type": "code",
   "execution_count": 15,
   "metadata": {
    "collapsed": true
   },
   "outputs": [],
   "source": [
    "np.random.seed(1000)\n",
    "m = 30  # m defines the size of the meshgrid.\n",
    "x = np.random.rand(m, )\n",
    "y = np.random.rand(m, )\n",
    "z = franke_function(x, y)\n",
    "p = 2\n",
    "X = generateDesignmatrix(p,x,y)"
   ]
  },
  {
   "cell_type": "code",
   "execution_count": 16,
   "metadata": {},
   "outputs": [
    {
     "data": {
      "text/plain": [
       "array([ 1.15707568, -1.22131811, -0.72666861,  0.24054396,  1.13194101,\n",
       "       -0.43215975])"
      ]
     },
     "execution_count": 16,
     "metadata": {},
     "output_type": "execute_result"
    }
   ],
   "source": [
    "our_ols = algorithms.OLS()\n",
    "our_ols.fit(X,z)\n",
    "our_betas = our_ols.beta\n",
    "our_betas"
   ]
  },
  {
   "cell_type": "code",
   "execution_count": 17,
   "metadata": {},
   "outputs": [
    {
     "data": {
      "text/plain": [
       "array([0.13468539, 0.12713231, 0.21728842, 0.6082088 , 0.31257862,\n",
       "       0.83608651, 0.4222509 , 0.53106781, 0.13968897, 0.32624696,\n",
       "       0.62073605, 0.38480847, 0.31299295, 0.60272371, 0.38959959,\n",
       "       0.15241299, 0.15293553, 0.23529875, 0.24239559, 0.49563065,\n",
       "       0.54789871, 0.26750687, 0.33570208, 0.41054777, 0.46519288,\n",
       "       0.587262  , 0.3109471 , 0.45247379, 0.37315466, 0.53325455])"
      ]
     },
     "execution_count": 17,
     "metadata": {},
     "output_type": "execute_result"
    }
   ],
   "source": [
    "X@our_betas"
   ]
  },
  {
   "cell_type": "code",
   "execution_count": 18,
   "metadata": {},
   "outputs": [
    {
     "data": {
      "text/plain": [
       "array([ 1.15707568, -1.22131811, -0.72666861,  0.24054396,  1.13194101,\n",
       "       -0.43215975])"
      ]
     },
     "execution_count": 18,
     "metadata": {},
     "output_type": "execute_result"
    }
   ],
   "source": [
    "# Create linear regression object\n",
    "scikit_ols = LinearRegression(fit_intercept=False)\n",
    "\n",
    "# Train the model using the training sets\n",
    "scikit_ols.fit(X, z)\n",
    "\n",
    "#LinearRegression(fit_intercept=True)\n",
    "# get the coefficients\n",
    "scikit_ols.coef_[:]"
   ]
  },
  {
   "cell_type": "markdown",
   "metadata": {},
   "source": [
    "In this case, we got the same coefficients."
   ]
  },
  {
   "cell_type": "markdown",
   "metadata": {},
   "source": [
    "# 3) Ridge"
   ]
  },
  {
   "cell_type": "code",
   "execution_count": 19,
   "metadata": {},
   "outputs": [
    {
     "data": {
      "text/plain": [
       "array([ 0.7771756 , -0.31589716, -0.16606758, -0.25684846,  0.4192761 ,\n",
       "       -0.5259916 ])"
      ]
     },
     "execution_count": 19,
     "metadata": {},
     "output_type": "execute_result"
    }
   ],
   "source": [
    "our_ridge = algorithms.Ridge(lmd = 0.1)\n",
    "our_ridge.fit(X,z)\n",
    "our_betas = our_ridge.beta\n",
    "our_betas "
   ]
  },
  {
   "cell_type": "code",
   "execution_count": 20,
   "metadata": {
    "collapsed": true
   },
   "outputs": [],
   "source": [
    "# X@our_betas"
   ]
  },
  {
   "cell_type": "code",
   "execution_count": 21,
   "metadata": {},
   "outputs": [
    {
     "data": {
      "text/plain": [
       "array([ 0.7771756 , -0.31589716, -0.16606758, -0.25684846,  0.4192761 ,\n",
       "       -0.5259916 ])"
      ]
     },
     "execution_count": 21,
     "metadata": {},
     "output_type": "execute_result"
    }
   ],
   "source": [
    "from sklearn import linear_model\n",
    "scikit_ridge=linear_model.RidgeCV(alphas=[0.1], fit_intercept=False)\n",
    "scikit_ridge.fit(X, z)\n",
    "\n",
    "#LinearRegression(fit_intercept=True)\n",
    "# get the coefficients\n",
    "scikit_ridge.coef_[:]"
   ]
  },
  {
   "cell_type": "markdown",
   "metadata": {},
   "source": [
    "The betas are clearly different!!! Here we have an error\n",
    "\n",
    "# TODO: find the error!!"
   ]
  },
  {
   "cell_type": "markdown",
   "metadata": {},
   "source": [
    "# 4) MSE"
   ]
  },
  {
   "cell_type": "code",
   "execution_count": 22,
   "metadata": {},
   "outputs": [
    {
     "data": {
      "text/plain": [
       "0.30508884042905127"
      ]
     },
     "execution_count": 22,
     "metadata": {},
     "output_type": "execute_result"
    }
   ],
   "source": [
    "# our code\n",
    "model_selection_new.GridSearchNew.mean_squared_error(x, y)"
   ]
  },
  {
   "cell_type": "code",
   "execution_count": 23,
   "metadata": {},
   "outputs": [
    {
     "data": {
      "text/plain": [
       "0.30508884042905127"
      ]
     },
     "execution_count": 23,
     "metadata": {},
     "output_type": "execute_result"
    }
   ],
   "source": [
    "# our code\n",
    "model_selection_new.GridSearchNew.mean_squared_error(x, y)\n",
    "# with scikit-learn\n",
    "mean_squared_error(x,y)"
   ]
  },
  {
   "cell_type": "markdown",
   "metadata": {},
   "source": [
    "# 5) R squared"
   ]
  },
  {
   "cell_type": "code",
   "execution_count": 24,
   "metadata": {},
   "outputs": [
    {
     "data": {
      "text/plain": [
       "-2.0267315179362133"
      ]
     },
     "execution_count": 24,
     "metadata": {},
     "output_type": "execute_result"
    }
   ],
   "source": [
    "# our code\n",
    "model_selection_new.GridSearchNew.r_squared(x, y)"
   ]
  },
  {
   "cell_type": "code",
   "execution_count": 25,
   "metadata": {},
   "outputs": [
    {
     "data": {
      "text/plain": [
       "-2.0267315179362133"
      ]
     },
     "execution_count": 25,
     "metadata": {},
     "output_type": "execute_result"
    }
   ],
   "source": [
    "# our code\n",
    "model_selection_new.GridSearchNew.r_squared(x, y)\n",
    "# with scikit-learn\n",
    "r2_score(x, y)"
   ]
  },
  {
   "cell_type": "code",
   "execution_count": null,
   "metadata": {
    "collapsed": true
   },
   "outputs": [],
   "source": []
  }
 ],
 "metadata": {
  "kernelspec": {
   "display_name": "Python 3",
   "language": "python",
   "name": "python3"
  },
  "language_info": {
   "codemirror_mode": {
    "name": "ipython",
    "version": 3
   },
   "file_extension": ".py",
   "mimetype": "text/x-python",
   "name": "python",
   "nbconvert_exporter": "python",
   "pygments_lexer": "ipython3",
   "version": "3.6.1"
  }
 },
 "nbformat": 4,
 "nbformat_minor": 2
}
