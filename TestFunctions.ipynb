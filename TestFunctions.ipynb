{
 "cells": [
  {
   "cell_type": "markdown",
   "metadata": {},
   "source": [
    "# Test the functions in Project 1"
   ]
  },
  {
   "cell_type": "markdown",
   "metadata": {},
   "source": [
    "This is one of three mandatory projects of the course FYS-STK4155 (University of Oslo). In this file, we test the performance of our own functions by comparing them with the functions in the scikit learn python package."
   ]
  },
  {
   "cell_type": "markdown",
   "metadata": {},
   "source": [
    "The Frank2 function was given for this project, so we are not going to test it."
   ]
  },
  {
   "cell_type": "code",
   "execution_count": null,
   "metadata": {},
   "outputs": [],
   "source": [
    "def franke_function(x, y):\n",
    "    term1 = 0.75 * np.exp(-(0.25*(9*x-2)**2) - 0.25*((9*y-2)**2))\n",
    "    term2 = 0.75 * np.exp(-((9*x+1)**2) / 49.0 - 0.1*(9*y+1))\n",
    "    term3 = 0.5 * np.exp(-(9*x-7)**2/4.0 - 0.25*((9*y-3)**2))\n",
    "    term4 = -0.2 * np.exp(-(9*x-4)**2 - (9*y-7)**2)\n",
    "    return term1 + term2 + term3 + term4"
   ]
  },
  {
   "cell_type": "markdown",
   "metadata": {},
   "source": [
    "Import packages"
   ]
  },
  {
   "cell_type": "code",
   "execution_count": null,
   "metadata": {},
   "outputs": [],
   "source": [
    "import numpy as np\n",
    "import matplotlib.pyplot as plt \n",
    "from sklearn.linear_model import LinearRegression \n",
    "from sklearn.linear_model import Ridge\n",
    "from sklearn.metrics import mean_squared_error, r2_score, mean_squared_log_error, mean_absolute_error\n",
    "from sklearn.preprocessing import PolynomialFeatures\n",
    "from sklearn.pipeline import make_pipeline\n",
    "import algorithms\n",
    "from model_selection import GridSearch #use Gridsearch.fit(x,y)\n",
    "from model_comparison import model_comparison\n",
    "#from functions import generateDesignmatrix"
   ]
  },
  {
   "cell_type": "markdown",
   "metadata": {},
   "source": [
    "#  1) Test the function generateDesignmatrix in functions.py"
   ]
  },
  {
   "cell_type": "markdown",
   "metadata": {},
   "source": [
    "This functions generates a design matrix for the arrays x and y, and a given polynonial order p. The arrays x and y are the ones that define the meshgrid for the calculation of z with the Franke function."
   ]
  },
  {
   "cell_type": "code",
   "execution_count": null,
   "metadata": {},
   "outputs": [],
   "source": [
    "def generateDesignmatrix(p, x, y): \n",
    "    m = int((p**2+3*p+2)/2) # returnerer heltall for p = [1:5]\n",
    "    X = np.zeros((len(x), m))\n",
    "    X[:,0] = 1\n",
    "    counter = 1\n",
    "    for i in range(1, p+1):\n",
    "        for j in range(i+1):\n",
    "            X[:,counter] = x**(i-j) * y**j\n",
    "            counter+=1\n",
    "    return X"
   ]
  },
  {
   "cell_type": "code",
   "execution_count": null,
   "metadata": {},
   "outputs": [],
   "source": [
    "np.random.seed(1000)\n",
    "# We work only with squared matrices. This implies that the length of x and y is the same.\n",
    "m = 5  # m defines the size of the meshgrid.\n",
    "x = np.random.rand(m, )\n",
    "y = np.random.rand(m, )\n",
    "z = franke_function(x, y)\n",
    "\n",
    "# x, y, and z are arrays. The length of x and y is m, which determines the dimensions of z (mxm)."
   ]
  },
  {
   "cell_type": "code",
   "execution_count": null,
   "metadata": {},
   "outputs": [],
   "source": [
    "print('array x:', x)\n",
    "print('array y:', y)\n",
    "print('array z:', z)"
   ]
  },
  {
   "cell_type": "code",
   "execution_count": null,
   "metadata": {},
   "outputs": [],
   "source": [
    "# Test the designMatrix for p=0. \n",
    "# When p=0 we expect the designMatrix functions to generate a matrix X which only consist of \n",
    "# the terms that correspond to the intercept.\n",
    "# This means that X has only a column of length equal to the length of x and y, and all its elements are 1.\n",
    "p = 0 # [1:5]\n",
    "X = generateDesignmatrix(p,x,y)\n",
    "print('Design matrix:', X) "
   ]
  },
  {
   "cell_type": "code",
   "execution_count": null,
   "metadata": {},
   "outputs": [],
   "source": [
    "# Test the designMatrix for p=0. \n",
    "# When p=0 we expect the designMatrix functions to generate a matrix X with three columns, the first filled with ones, \n",
    "# as we have seen before, and the second and third with the values of x and y.\n",
    "p = 1 # [1:5]\n",
    "X = generateDesignmatrix(p,x,y)\n",
    "print('Design matrix:', X) "
   ]
  },
  {
   "cell_type": "code",
   "execution_count": null,
   "metadata": {},
   "outputs": [],
   "source": [
    "# More general, the columns of the design matrix will be:\n",
    "# ones, x, y, x^2, y^2, xy,..., x^py^0,..., x^(p-i)y^i, ..., x^0y^p.\n",
    "# Thus, for a given p, we have t = (p^2+3p+2)/2 number of columns in the design matrix X."
   ]
  },
  {
   "cell_type": "code",
   "execution_count": null,
   "metadata": {},
   "outputs": [],
   "source": [
    "# Now, let's try with a higher order poynomial.\n",
    "p = 3\n",
    "\n",
    "X = generateDesignmatrix(p,x,y)\n",
    "print('Design matrix:', X) \n"
   ]
  },
  {
   "cell_type": "code",
   "execution_count": null,
   "metadata": {},
   "outputs": [],
   "source": [
    "# As expected, X has 10 columns. t = (3^3 + 3*3 + 2)/2 = 10\n",
    "# The first column consists of ones, the second and the third are the vectors x and y.\n",
    "\n",
    "# Let's check wether the column number 9 is equal to x*y^2\n",
    "\n",
    "y2 = y**2\n",
    "col9 = X[:, 8]\n",
    "\n",
    "print('Has the ninth column in X the values we expect:', col9==x*y2)"
   ]
  },
  {
   "cell_type": "code",
   "execution_count": null,
   "metadata": {},
   "outputs": [],
   "source": []
  }
 ],
 "metadata": {
  "kernelspec": {
   "display_name": "Python 3",
   "language": "python",
   "name": "python3"
  },
  "language_info": {
   "codemirror_mode": {
    "name": "ipython",
    "version": 3
   },
   "file_extension": ".py",
   "mimetype": "text/x-python",
   "name": "python",
   "nbconvert_exporter": "python",
   "pygments_lexer": "ipython3",
   "version": "3.7.0"
  }
 },
 "nbformat": 4,
 "nbformat_minor": 2
}
