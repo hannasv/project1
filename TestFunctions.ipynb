{
 "cells": [
  {
   "cell_type": "markdown",
   "metadata": {},
   "source": [
    "# Test the functions in Project 1"
   ]
  },
  {
   "cell_type": "markdown",
   "metadata": {},
   "source": [
    "This is part of one of three mandatory projects of the course FYS-STK4155 (University of Oslo). In this file, we test the performance of our own functions by comparing them with the functions in the scikit learn python package."
   ]
  },
  {
   "cell_type": "markdown",
   "metadata": {},
   "source": [
    "The Franke's function is given for this project, so we are not going to test it."
   ]
  },
  {
   "cell_type": "code",
   "execution_count": 83,
   "metadata": {},
   "outputs": [],
   "source": [
    "def franke_function(x, y):\n",
    "    term1 = 0.75 * np.exp(-(0.25*(9*x-2)**2) - 0.25*((9*y-2)**2))\n",
    "    term2 = 0.75 * np.exp(-((9*x+1)**2) / 49.0 - 0.1*(9*y+1))\n",
    "    term3 = 0.5 * np.exp(-(9*x-7)**2/4.0 - 0.25*((9*y-3)**2))\n",
    "    term4 = -0.2 * np.exp(-(9*x-4)**2 - (9*y-7)**2)\n",
    "    return term1 + term2 + term3 + term4"
   ]
  },
  {
   "cell_type": "markdown",
   "metadata": {},
   "source": [
    "Import packages"
   ]
  },
  {
   "cell_type": "code",
   "execution_count": 84,
   "metadata": {},
   "outputs": [],
   "source": [
    "import numpy as np\n",
    "import matplotlib.pyplot as plt \n",
    "from sklearn.linear_model import LinearRegression \n",
    "from sklearn.linear_model import Ridge\n",
    "from sklearn import metrics\n",
    "from sklearn.preprocessing import PolynomialFeatures\n",
    "from sklearn.pipeline import make_pipeline\n",
    "import algorithms\n",
    "import model_selection0\n",
    "from model_comparison0 import model_comparison0\n",
    "from utils import generateDesignmatrix, mean_squared_error, r2_score"
   ]
  },
  {
   "cell_type": "markdown",
   "metadata": {},
   "source": [
    "#  1) generateDesignmatrix in functions.py"
   ]
  },
  {
   "cell_type": "markdown",
   "metadata": {},
   "source": [
    "This functions generates a design matrix for the arrays x and y, and a given polynonial order p. The arrays x and y are the ones that define the meshgrid for the calculation of z with the Franke function.\n",
    "\n",
    "- We define the vectors x and y, and apply the Franke's function to these.\n",
    "- m defines the size of the meshgrid. Here we choose a small number so that the calculation can easily checked by hand.\n",
    "- x, y, and z are arrays. The length of x and y is m, which determines the dimensions of z."
   ]
  },
  {
   "cell_type": "code",
   "execution_count": 85,
   "metadata": {},
   "outputs": [],
   "source": [
    "np.random.seed(1000)\n",
    "m = 5  \n",
    "x = np.random.rand(m, )\n",
    "y = np.random.rand(m, )\n",
    "z = franke_function(x, y)\n",
    "\n"
   ]
  },
  {
   "cell_type": "code",
   "execution_count": 86,
   "metadata": {},
   "outputs": [
    {
     "name": "stdout",
     "output_type": "stream",
     "text": [
      "array x: [0.65358959 0.11500694 0.95028286 0.4821914  0.87247454]\n",
      "array y: [0.21233268 0.04070962 0.39719446 0.2331322  0.84174072]\n",
      "array z: [0.50251014 0.90614694 0.32573166 0.56740664 0.0665042 ]\n"
     ]
    }
   ],
   "source": [
    "print('array x:', x)\n",
    "print('array y:', y)\n",
    "print('array z:', z)"
   ]
  },
  {
   "cell_type": "markdown",
   "metadata": {},
   "source": [
    "### Test the designMatrix for p=0. \n",
    "- When p=0 we expect the designMatrix functions to generate a matrix X which only consist of the terms that correspond to the intercept.\n",
    "- This means that X has only a column of length equal to the length of x and y, and all its elements are 1."
   ]
  },
  {
   "cell_type": "code",
   "execution_count": 87,
   "metadata": {},
   "outputs": [
    {
     "name": "stdout",
     "output_type": "stream",
     "text": [
      "Design matrix: [[1.]\n",
      " [1.]\n",
      " [1.]\n",
      " [1.]\n",
      " [1.]]\n"
     ]
    }
   ],
   "source": [
    "p = 0 # [1:5]\n",
    "X = generateDesignmatrix(p,x,y)\n",
    "print('Design matrix:', X) "
   ]
  },
  {
   "cell_type": "markdown",
   "metadata": {},
   "source": [
    "### Test the designMatrix for p=1. \n",
    "- When p=1 we expect the designMatrix functions to generate a matrix X with three columns, the first filled with ones, and the others with the vextors x and y.\n",
    "- As we have seen before, and the second and third with the values of x and y."
   ]
  },
  {
   "cell_type": "code",
   "execution_count": 88,
   "metadata": {},
   "outputs": [
    {
     "name": "stdout",
     "output_type": "stream",
     "text": [
      "Design matrix: [[1.         0.65358959 0.21233268]\n",
      " [1.         0.11500694 0.04070962]\n",
      " [1.         0.95028286 0.39719446]\n",
      " [1.         0.4821914  0.2331322 ]\n",
      " [1.         0.87247454 0.84174072]]\n"
     ]
    }
   ],
   "source": [
    "\n",
    "p = 1 # [1:5]\n",
    "X = generateDesignmatrix(p,x,y)\n",
    "print('Design matrix:', X) "
   ]
  },
  {
   "cell_type": "markdown",
   "metadata": {
    "collapsed": true
   },
   "source": [
    "More general, the columns of the design matrix will be:\n",
    "[ones, x, y, x^2, y^2, xy,..., x^py^0,..., x^(p-i)y^i, ..., x^0y^p].\n",
    "\n",
    "Thus, for a given p, we have t = (p^2+3p+2)/2 number of columns in the design matrix X."
   ]
  },
  {
   "cell_type": "markdown",
   "metadata": {},
   "source": [
    "### Let's try with a higher order poynomial (p=3)."
   ]
  },
  {
   "cell_type": "code",
   "execution_count": 89,
   "metadata": {},
   "outputs": [
    {
     "name": "stdout",
     "output_type": "stream",
     "text": [
      "Design matrix: [[1.00000000e+00 6.53589585e-01 2.12332681e-01 4.27179346e-01\n",
      "  1.38778429e-01 4.50851674e-02 2.79199972e-01 9.07041358e-02\n",
      "  2.94671959e-02 9.57305446e-03]\n",
      " [1.00000000e+00 1.15006943e-01 4.07096248e-02 1.32265970e-02\n",
      "  4.68188950e-03 1.65727355e-03 1.52115049e-03 5.38449799e-04\n",
      "  1.90597965e-04 6.74669843e-05]\n",
      " [1.00000000e+00 9.50282864e-01 3.97194461e-01 9.03037522e-01\n",
      "  3.77447090e-01 1.57763440e-01 8.58141083e-01 3.58681502e-01\n",
      "  1.49919894e-01 6.26627646e-02]\n",
      " [1.00000000e+00 4.82191401e-01 2.33132197e-01 2.32508548e-01\n",
      "  1.12414341e-01 5.43506214e-02 1.12113622e-01 5.42052286e-02\n",
      "  2.62074023e-02 1.26708798e-02]\n",
      " [1.00000000e+00 8.72474535e-01 8.41740724e-01 7.61211815e-01\n",
      "  7.34397347e-01 7.08527447e-01 6.64137924e-01 6.40742984e-01\n",
      "  6.18172155e-01 5.96396406e-01]]\n"
     ]
    }
   ],
   "source": [
    "p = 3\n",
    "\n",
    "X = generateDesignmatrix(p,x,y)\n",
    "print('Design matrix:', X) \n"
   ]
  },
  {
   "cell_type": "markdown",
   "metadata": {},
   "source": [
    "- As expected, X has 10 columns. t = (3^3 + 3*3 + 2)/2 = 10\n",
    "- The first column consists of ones, the second and the third are the vectors x and y."
   ]
  },
  {
   "cell_type": "markdown",
   "metadata": {},
   "source": [
    "### Check wether the column number 9 is equal to x*y^2"
   ]
  },
  {
   "cell_type": "code",
   "execution_count": 90,
   "metadata": {},
   "outputs": [
    {
     "name": "stdout",
     "output_type": "stream",
     "text": [
      "Has the ninth column in X the values we expect?: [ True  True  True  True  True]\n"
     ]
    }
   ],
   "source": [
    "y2 = y**2\n",
    "col9 = X[:, 8]\n",
    "\n",
    "print('Has the ninth column in X the values we expect?:', col9==x*y2)"
   ]
  },
  {
   "cell_type": "markdown",
   "metadata": {},
   "source": [
    "# 2) OLS"
   ]
  },
  {
   "cell_type": "markdown",
   "metadata": {},
   "source": [
    "We test our own code for the OLS comparing it with the scikit-learn function\n",
    "When running OLS, x cannot be equal to y since that generates a singular design matrix, and our code will not run."
   ]
  },
  {
   "cell_type": "code",
   "execution_count": 91,
   "metadata": {},
   "outputs": [],
   "source": [
    "x = np.linspace(1, 10, num=10)\n",
    "y = np.linspace(1.1, 10.1, num=10)\n",
    "z = franke_function(x, y)\n",
    "p = 2\n",
    "X = generateDesignmatrix(p,x,y)"
   ]
  },
  {
   "cell_type": "code",
   "execution_count": 92,
   "metadata": {},
   "outputs": [
    {
     "name": "stdout",
     "output_type": "stream",
     "text": [
      "Regression coefficients for the OLS calculated with our functions: [ 0.02929223 -0.01249085  0.00209199 -0.00138651  0.00031428  0.00180701]\n"
     ]
    }
   ],
   "source": [
    "our_ols = algorithms.OLS()\n",
    "our_ols.fit(X,z)\n",
    "our_betas = our_ols.coef_\n",
    "print('Regression coefficients for the OLS calculated with our functions:', our_betas)"
   ]
  },
  {
   "cell_type": "code",
   "execution_count": 93,
   "metadata": {},
   "outputs": [
    {
     "data": {
      "text/plain": [
       "LinearRegression(copy_X=True, fit_intercept=False, n_jobs=1, normalize=False)"
      ]
     },
     "execution_count": 93,
     "metadata": {},
     "output_type": "execute_result"
    }
   ],
   "source": [
    "# Create linear regression object\n",
    "scikit_ols = LinearRegression(fit_intercept=False)\n",
    "\n",
    "# Train the model using the training sets\n",
    "scikit_ols.fit(X, z)"
   ]
  },
  {
   "cell_type": "code",
   "execution_count": 94,
   "metadata": {},
   "outputs": [
    {
     "name": "stdout",
     "output_type": "stream",
     "text": [
      "Regression coefficients for the OLS calculated with scikit-learn: [ 0.02986962 -0.00647389 -0.00348693  0.00079619  0.0001488  -0.00019989]\n"
     ]
    }
   ],
   "source": [
    "# get the coefficients (?)\n",
    "scikit_betas = scikit_ols.coef_[0:9]\n",
    "print('Regression coefficients for the OLS calculated with scikit-learn:', scikit_betas)"
   ]
  },
  {
   "cell_type": "markdown",
   "metadata": {},
   "source": [
    "In the example above, all the coefficients are close to zero, both with our function and with the scikit.learn function and we notice that the signs of some of the coefficients are different. The intercept is the same.\n",
    "\n",
    "Therefore, we try with random selection of x and y and some larger samples"
   ]
  },
  {
   "cell_type": "code",
   "execution_count": 95,
   "metadata": {},
   "outputs": [],
   "source": [
    "np.random.seed(1000)\n",
    "m = 30  # m defines the size of the meshgrid.\n",
    "x = np.random.rand(m, )\n",
    "y = np.random.rand(m, )\n",
    "z = franke_function(x, y)\n",
    "p = 2\n",
    "X = generateDesignmatrix(p,x,y)"
   ]
  },
  {
   "cell_type": "code",
   "execution_count": 96,
   "metadata": {},
   "outputs": [
    {
     "name": "stdout",
     "output_type": "stream",
     "text": [
      "Regression coefficients for the OLS calculated with our functions: [ 1.15707568 -1.22131811 -0.72666861  0.24054396  1.13194101 -0.43215975]\n"
     ]
    }
   ],
   "source": [
    "our_ols = algorithms.OLS()\n",
    "our_ols.fit(X,z)\n",
    "our_betas = our_ols.coef_\n",
    "print('Regression coefficients for the OLS calculated with our functions:', our_betas)"
   ]
  },
  {
   "cell_type": "code",
   "execution_count": 97,
   "metadata": {},
   "outputs": [
    {
     "name": "stdout",
     "output_type": "stream",
     "text": [
      "OLS prediction with our functions: [0.13468539 0.12713231 0.21728842 0.6082088  0.31257862 0.83608651\n",
      " 0.4222509  0.53106781 0.13968897 0.32624696 0.62073605 0.38480847\n",
      " 0.31299295 0.60272371 0.38959959 0.15241299 0.15293553 0.23529875\n",
      " 0.24239559 0.49563065 0.54789871 0.26750687 0.33570208 0.41054777\n",
      " 0.46519288 0.587262   0.3109471  0.45247379 0.37315466 0.53325455]\n"
     ]
    }
   ],
   "source": [
    "print('OLS prediction with our functions:', X@our_betas)"
   ]
  },
  {
   "cell_type": "code",
   "execution_count": 98,
   "metadata": {},
   "outputs": [
    {
     "name": "stdout",
     "output_type": "stream",
     "text": [
      "Regression coefficients for the OLS calculated with scikit-learn: [ 1.15707568 -1.22131811 -0.72666861  0.24054396  1.13194101 -0.43215975]\n"
     ]
    }
   ],
   "source": [
    "# Create linear regression object\n",
    "scikit_ols = LinearRegression(fit_intercept=False)\n",
    "\n",
    "# Train the model using the training sets\n",
    "scikit_ols.fit(X, z)\n",
    "\n",
    "#LinearRegression(fit_intercept=True)\n",
    "# get the coefficients\n",
    "scikit_betas = scikit_ols.coef_[:]\n",
    "print('Regression coefficients for the OLS calculated with scikit-learn:', scikit_betas)"
   ]
  },
  {
   "cell_type": "code",
   "execution_count": 99,
   "metadata": {},
   "outputs": [
    {
     "name": "stdout",
     "output_type": "stream",
     "text": [
      "Difference of the coefficients for the OLS: [ 6.88338275e-15 -3.06421555e-14  1.69864123e-14  2.38142839e-14\n",
      "  1.84297022e-14 -1.56541446e-14]\n"
     ]
    }
   ],
   "source": [
    "print('Difference of the coefficients for the OLS:', our_betas - scikit_betas)"
   ]
  },
  {
   "cell_type": "markdown",
   "metadata": {},
   "source": [
    "In this case, te difference between the coefficients calculated with our functions and with the scikit-learn library is of order 10^-14"
   ]
  },
  {
   "cell_type": "markdown",
   "metadata": {},
   "source": [
    "# 3) Ridge"
   ]
  },
  {
   "cell_type": "code",
   "execution_count": 100,
   "metadata": {},
   "outputs": [
    {
     "name": "stdout",
     "output_type": "stream",
     "text": [
      "Regression coefficients for the ridge calculated with our functions: [ 0.7771756  -0.31589716 -0.16606758 -0.25684846  0.4192761  -0.5259916 ]\n"
     ]
    }
   ],
   "source": [
    "our_ridge = algorithms.Ridge(lmd = 0.1)\n",
    "our_ridge.fit(X,z)\n",
    "our_betas = our_ridge.coef_\n",
    "print('Regression coefficients for the ridge calculated with our functions:', our_betas)"
   ]
  },
  {
   "cell_type": "code",
   "execution_count": 101,
   "metadata": {},
   "outputs": [],
   "source": [
    "# X@our_betas"
   ]
  },
  {
   "cell_type": "code",
   "execution_count": 102,
   "metadata": {},
   "outputs": [
    {
     "name": "stdout",
     "output_type": "stream",
     "text": [
      "Regression coefficients for the OLS calculated with scikit-learn: [ 0.7771756  -0.31589716 -0.16606758 -0.25684846  0.4192761  -0.5259916 ]\n"
     ]
    }
   ],
   "source": [
    "from sklearn import linear_model\n",
    "scikit_ridge=linear_model.RidgeCV(alphas=[0.1], fit_intercept=False)\n",
    "scikit_ridge.fit(X, z)\n",
    "\n",
    "#LinearRegression(fit_intercept=True)\n",
    "# get the coefficients\n",
    "scikit_betas = scikit_ridge.coef_[:]\n",
    "print('Regression coefficients for the OLS calculated with scikit-learn:', scikit_betas)"
   ]
  },
  {
   "cell_type": "code",
   "execution_count": 103,
   "metadata": {},
   "outputs": [
    {
     "name": "stdout",
     "output_type": "stream",
     "text": [
      "Difference of the coefficients for the ridge: [5.22915045e-14 9.49240686e-15 2.45359288e-14 2.16493490e-14\n",
      " 8.38218384e-15 4.77395901e-15]\n"
     ]
    }
   ],
   "source": [
    "print('Difference of the coefficients for the ridge:', our_betas - scikit_betas)"
   ]
  },
  {
   "cell_type": "markdown",
   "metadata": {},
   "source": [
    "# 4) MSE"
   ]
  },
  {
   "cell_type": "code",
   "execution_count": 104,
   "metadata": {},
   "outputs": [
    {
     "name": "stdout",
     "output_type": "stream",
     "text": [
      "MSE 0.30508884042905127\n"
     ]
    }
   ],
   "source": [
    "# our code\n",
    "print('MSE', mean_squared_error(x, y))"
   ]
  },
  {
   "cell_type": "code",
   "execution_count": 105,
   "metadata": {},
   "outputs": [
    {
     "name": "stdout",
     "output_type": "stream",
     "text": [
      "0.0\n"
     ]
    }
   ],
   "source": [
    "# our code\n",
    "our_mse = mean_squared_error(x, y)\n",
    "# with scikit-learn\n",
    "scikit_mse = metrics.mean_squared_error(x,y)\n",
    "\n",
    "print(our_mse - scikit_mse)"
   ]
  },
  {
   "cell_type": "markdown",
   "metadata": {},
   "source": [
    "# 5) R squared"
   ]
  },
  {
   "cell_type": "code",
   "execution_count": 106,
   "metadata": {},
   "outputs": [
    {
     "name": "stdout",
     "output_type": "stream",
     "text": [
      "R2 score -2.0267315179362133\n"
     ]
    }
   ],
   "source": [
    "# our code\n",
    "print('R2 score', r2_score(x, y))"
   ]
  },
  {
   "cell_type": "code",
   "execution_count": 107,
   "metadata": {},
   "outputs": [
    {
     "name": "stdout",
     "output_type": "stream",
     "text": [
      "0.0\n"
     ]
    }
   ],
   "source": [
    "# our code\n",
    "our_r2 = r2_score(x, y)\n",
    "# with scikit-learn\n",
    "scikit_r2 = metrics.r2_score(x, y)\n",
    "print(our_r2 - scikit_r2)"
   ]
  },
  {
   "cell_type": "code",
   "execution_count": null,
   "metadata": {},
   "outputs": [],
   "source": []
  },
  {
   "cell_type": "code",
   "execution_count": null,
   "metadata": {},
   "outputs": [],
   "source": []
  },
  {
   "cell_type": "code",
   "execution_count": null,
   "metadata": {},
   "outputs": [],
   "source": []
  }
 ],
 "metadata": {
  "kernelspec": {
   "display_name": "Python 3",
   "language": "python",
   "name": "python3"
  },
  "language_info": {
   "codemirror_mode": {
    "name": "ipython",
    "version": 3
   },
   "file_extension": ".py",
   "mimetype": "text/x-python",
   "name": "python",
   "nbconvert_exporter": "python",
   "pygments_lexer": "ipython3",
   "version": "3.7.0"
  }
 },
 "nbformat": 4,
 "nbformat_minor": 2
}
