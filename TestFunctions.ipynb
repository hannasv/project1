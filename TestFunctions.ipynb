{
 "cells": [
  {
   "cell_type": "markdown",
   "metadata": {},
   "source": [
    "# Test the functions in Project 1"
   ]
  },
  {
   "cell_type": "markdown",
   "metadata": {},
   "source": [
    "This is one of three mandatory projects of the course FYS-STK4155 (University of Oslo). In this file, we test the performance of our own functions by comparing them with the functions in the scikit learn python package."
   ]
  },
  {
   "cell_type": "markdown",
   "metadata": {},
   "source": [
    "The Frank2 function was given for this project, so we are not going to test it."
   ]
  },
  {
   "cell_type": "code",
   "execution_count": 1,
   "metadata": {},
   "outputs": [],
   "source": [
    "def franke_function(x, y):\n",
    "    term1 = 0.75 * np.exp(-(0.25*(9*x-2)**2) - 0.25*((9*y-2)**2))\n",
    "    term2 = 0.75 * np.exp(-((9*x+1)**2) / 49.0 - 0.1*(9*y+1))\n",
    "    term3 = 0.5 * np.exp(-(9*x-7)**2/4.0 - 0.25*((9*y-3)**2))\n",
    "    term4 = -0.2 * np.exp(-(9*x-4)**2 - (9*y-7)**2)\n",
    "    return term1 + term2 + term3 + term4"
   ]
  },
  {
   "cell_type": "markdown",
   "metadata": {},
   "source": [
    "Import packages"
   ]
  },
  {
   "cell_type": "code",
   "execution_count": 2,
   "metadata": {},
   "outputs": [],
   "source": [
    "import numpy as np\n",
    "import matplotlib.pyplot as plt \n",
    "from sklearn.linear_model import LinearRegression \n",
    "from sklearn.linear_model import Ridge\n",
    "from sklearn.metrics import mean_squared_error, r2_score, mean_squared_log_error, mean_absolute_error\n",
    "from sklearn.preprocessing import PolynomialFeatures\n",
    "from sklearn.pipeline import make_pipeline\n",
    "import algorithms\n",
    "from model_selection import GridSearch #use Gridsearch.fit(x,y)\n",
    "from model_comparison import model_comparison\n",
    "#from functions import generateDesignmatrix"
   ]
  },
  {
   "cell_type": "markdown",
   "metadata": {},
   "source": [
    "#  1) Test the function generateDesignmatrix in functions.py"
   ]
  },
  {
   "cell_type": "markdown",
   "metadata": {},
   "source": [
    "This functions generates a design matrix for the arrays x and y, and a given polynonial order p. The arrays x and y are the ones that define the meshgrid for the calculation of z with the Franke function."
   ]
  },
  {
   "cell_type": "code",
   "execution_count": 3,
   "metadata": {},
   "outputs": [],
   "source": [
    "def generateDesignmatrix(p, x, y): \n",
    "    m = int((p**2+3*p+2)/2) # returnerer heltall for p = [1:5]\n",
    "    X = np.zeros((len(x), m))\n",
    "    X[:,0] = 1\n",
    "    counter = 1\n",
    "    for i in range(1, p+1):\n",
    "        for j in range(i+1):\n",
    "            X[:,counter] = x**(i-j) * y**j\n",
    "            counter+=1\n",
    "    return X"
   ]
  },
  {
   "cell_type": "code",
   "execution_count": 4,
   "metadata": {},
   "outputs": [],
   "source": [
    "np.random.seed(1000)\n",
    "# We work only with squared matrices. This implies that the length of x and y is the same.\n",
    "m = 5  # m defines the size of the meshgrid.\n",
    "x = np.random.rand(m, )\n",
    "y = np.random.rand(m, )\n",
    "z = franke_function(x, y)\n",
    "\n",
    "# x, y, and z are arrays. The length of x and y is m, which determines the dimensions of z (mxm)."
   ]
  },
  {
   "cell_type": "code",
   "execution_count": 5,
   "metadata": {},
   "outputs": [
    {
     "name": "stdout",
     "output_type": "stream",
     "text": [
      "array x: [0.65358959 0.11500694 0.95028286 0.4821914  0.87247454]\n",
      "array y: [0.21233268 0.04070962 0.39719446 0.2331322  0.84174072]\n",
      "array z: [0.50251014 0.90614694 0.32573166 0.56740664 0.0665042 ]\n"
     ]
    }
   ],
   "source": [
    "print('array x:', x)\n",
    "print('array y:', y)\n",
    "print('array z:', z)"
   ]
  },
  {
   "cell_type": "code",
   "execution_count": 6,
   "metadata": {},
   "outputs": [
    {
     "name": "stdout",
     "output_type": "stream",
     "text": [
      "Design matrix: [[1.]\n",
      " [1.]\n",
      " [1.]\n",
      " [1.]\n",
      " [1.]]\n"
     ]
    }
   ],
   "source": [
    "# Test the designMatrix for p=0. \n",
    "# When p=0 we expect the designMatrix functions to generate a matrix X which only consist of \n",
    "# the terms that correspond to the intercept.\n",
    "# This means that X has only a column of length equal to the length of x and y, and all its elements are 1.\n",
    "p = 0 # [1:5]\n",
    "X = generateDesignmatrix(p,x,y)\n",
    "print('Design matrix:', X) "
   ]
  },
  {
   "cell_type": "code",
   "execution_count": 7,
   "metadata": {},
   "outputs": [
    {
     "name": "stdout",
     "output_type": "stream",
     "text": [
      "Design matrix: [[1.         0.65358959 0.21233268]\n",
      " [1.         0.11500694 0.04070962]\n",
      " [1.         0.95028286 0.39719446]\n",
      " [1.         0.4821914  0.2331322 ]\n",
      " [1.         0.87247454 0.84174072]]\n"
     ]
    }
   ],
   "source": [
    "# Test the designMatrix for p=0. \n",
    "# When p=0 we expect the designMatrix functions to generate a matrix X with three columns, the first filled with ones, \n",
    "# as we have seen before, and the second and third with the values of x and y.\n",
    "p = 1 # [1:5]\n",
    "X = generateDesignmatrix(p,x,y)\n",
    "print('Design matrix:', X) "
   ]
  },
  {
   "cell_type": "code",
   "execution_count": 8,
   "metadata": {},
   "outputs": [],
   "source": [
    "# More general, the columns of the design matrix will be:\n",
    "# ones, x, y, x^2, y^2, xy,..., x^py^0,..., x^(p-i)y^i, ..., x^0y^p.\n",
    "# Thus, for a given p, we have t = (p^2+3p+2)/2 number of columns in the design matrix X."
   ]
  },
  {
   "cell_type": "code",
   "execution_count": 9,
   "metadata": {},
   "outputs": [
    {
     "name": "stdout",
     "output_type": "stream",
     "text": [
      "Design matrix: [[1.00000000e+00 6.53589585e-01 2.12332681e-01 4.27179346e-01\n",
      "  1.38778429e-01 4.50851674e-02 2.79199972e-01 9.07041358e-02\n",
      "  2.94671959e-02 9.57305446e-03]\n",
      " [1.00000000e+00 1.15006943e-01 4.07096248e-02 1.32265970e-02\n",
      "  4.68188950e-03 1.65727355e-03 1.52115049e-03 5.38449799e-04\n",
      "  1.90597965e-04 6.74669843e-05]\n",
      " [1.00000000e+00 9.50282864e-01 3.97194461e-01 9.03037522e-01\n",
      "  3.77447090e-01 1.57763440e-01 8.58141083e-01 3.58681502e-01\n",
      "  1.49919894e-01 6.26627646e-02]\n",
      " [1.00000000e+00 4.82191401e-01 2.33132197e-01 2.32508548e-01\n",
      "  1.12414341e-01 5.43506214e-02 1.12113622e-01 5.42052286e-02\n",
      "  2.62074023e-02 1.26708798e-02]\n",
      " [1.00000000e+00 8.72474535e-01 8.41740724e-01 7.61211815e-01\n",
      "  7.34397347e-01 7.08527447e-01 6.64137924e-01 6.40742984e-01\n",
      "  6.18172155e-01 5.96396406e-01]]\n"
     ]
    }
   ],
   "source": [
    "# Now, let's try with a higher order poynomial.\n",
    "p = 3\n",
    "\n",
    "X = generateDesignmatrix(p,x,y)\n",
    "print('Design matrix:', X) \n"
   ]
  },
  {
   "cell_type": "code",
   "execution_count": 10,
   "metadata": {},
   "outputs": [
    {
     "name": "stdout",
     "output_type": "stream",
     "text": [
      "Has the ninth column in X the values we expect: [ True  True  True  True  True]\n"
     ]
    }
   ],
   "source": [
    "# As expected, X has 10 columns. t = (3^3 + 3*3 + 2)/2 = 10\n",
    "# The first column consists of ones, the second and the third are the vectors x and y.\n",
    "\n",
    "# Let's check wether the column number 9 is equal to x*y^2\n",
    "\n",
    "y2 = y**2\n",
    "col9 = X[:, 8]\n",
    "\n",
    "print('Has the ninth column in X the values we expect:', col9==x*y2)"
   ]
  },
  {
   "cell_type": "code",
   "execution_count": null,
   "metadata": {},
   "outputs": [],
   "source": []
  }
 ],
 "metadata": {
  "kernelspec": {
   "display_name": "Python 3",
   "language": "python",
   "name": "python3"
  },
  "language_info": {
   "codemirror_mode": {
    "name": "ipython",
    "version": 3
   },
   "file_extension": ".py",
   "mimetype": "text/x-python",
   "name": "python",
   "nbconvert_exporter": "python",
   "pygments_lexer": "ipython3",
   "version": "3.7.0"
  }
 },
 "nbformat": 4,
 "nbformat_minor": 2
}
