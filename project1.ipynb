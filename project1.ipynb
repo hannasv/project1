{
 "cells": [
  {
   "cell_type": "markdown",
   "metadata": {},
   "source": [
    "# Project 1: fys-stk4155\n",
    "## Part a) \n",
    "### (Kode fra oppgaveteksten)"
   ]
  },
  {
   "cell_type": "code",
   "execution_count": null,
   "metadata": {},
   "outputs": [],
   "source": [
    "from mpl_toolkits.mplot3d import Axes3D\n",
    "import matplotlib.pyplot as plt\n",
    "from matplotlib import cm\n",
    "from matplotlib.ticker import LinearLocator, FormatStrFormatter\n",
    "import numpy as np\n",
    "from random import random, seed"
   ]
  },
  {
   "cell_type": "code",
   "execution_count": null,
   "metadata": {},
   "outputs": [],
   "source": [
    "# Need to make sure this works when y, y_hat and y_tilde are matrices.\n",
    "\n",
    "# Creating a R2-square fuction:\n",
    "def R2(y, y_predict):\n",
    "    C = y-y_predict\n",
    "    val = sum(sum((y-y_predict))**2)/sum(sum((y-np.mean(y))**2))\n",
    "    return 1 - val\n",
    "\n",
    "# Creating a mean square error function:\n",
    "def MSE(y, y_predict):\n",
    "    C = y-y_predict\n",
    "    [n, m] = C.shape\n",
    "    return sum(sum((C)**2))/(n*m)\n",
    "\n",
    "\n",
    "def generateDesignmatrix(p, x, y): \n",
    "    m = int((p**2+3*p+2)/2) # returnerer heltall for p = [1:5]\n",
    "    X = np.zeros((len(x), m))\n",
    "    X[:,0] = 1\n",
    "    counter = 1\n",
    "    for i in range(1, p+1):\n",
    "        for j in range(i+1):\n",
    "            X[:,counter] = x**(i-j) * y**j\n",
    "            counter+=1\n",
    "    return X\n",
    "\n",
    "def franke_function(x, y):\n",
    "    term1 = 0.75 * np.exp(-(0.25*(9*x-2)**2) - 0.25*((9*y-2)**2))\n",
    "    term2 = 0.75 * np.exp(-((9*x+1)**2) / 49.0 - 0.1*(9*y+1))\n",
    "    term3 = 0.5 * np.exp(-(9*x-7)**2/4.0 - 0.25*((9*y-3)**2))\n",
    "    term4 = -0.2 * np.exp(-(9*x-4)**2 - (9*y-7)**2)\n",
    "    return term1 + term2 + term3 + term4"
   ]
  },
  {
   "cell_type": "code",
   "execution_count": null,
   "metadata": {},
   "outputs": [],
   "source": [
    "def franke_function(x, y):\n",
    "    term1 = 0.75 * np.exp(-(0.25*(9*x-2)**2) - 0.25*((9*y-2)**2))\n",
    "    term2 = 0.75 * np.exp(-((9*x+1)**2) / 49.0 - 0.1*(9*y+1))\n",
    "    term3 = 0.5 * np.exp(-(9*x-7)**2/4.0 - 0.25*((9*y-3)**2))\n",
    "    term4 = -0.2 * np.exp(-(9*x-4)**2 - (9*y-7)**2)\n",
    "    return term1 + term2 + term3 + term4"
   ]
  },
  {
   "cell_type": "code",
   "execution_count": null,
   "metadata": {},
   "outputs": [],
   "source": [
    "fig = plt.figure(figsize = (10,6))\n",
    "ax = fig.gca(projection='3d')\n",
    "\n",
    "# Make data.\n",
    "x = np.arange(0, 1, 0.05)\n",
    "y = np.arange(0, 1, 0.05)\n",
    "x, y = np.meshgrid(x,y)\n",
    "\n",
    "z = franke_function(x, y)\n",
    "print(z.shape)\n",
    "# Plot the surface.\n",
    "surf = ax.plot_surface(x, y, z, cmap=cm.coolwarm,\n",
    "                       linewidth=0, antialiased=False)\n",
    "\n",
    "# Customize the z axis.\n",
    "ax.set_zlim(-0.10, 1.40)\n",
    "ax.zaxis.set_major_locator(LinearLocator(10))\n",
    "ax.zaxis.set_major_formatter(FormatStrFormatter('%.02f'))\n",
    "\n",
    "# Add a color bar which maps values to colors.\n",
    "fig.colorbar(surf, shrink=0.5, aspect=5)\n",
    "\n",
    "plt.show()"
   ]
  },
  {
   "cell_type": "code",
   "execution_count": null,
   "metadata": {},
   "outputs": [],
   "source": [
    "# Initializing X-matrix for fitting a polynomial of degree p \n",
    "\n",
    "np.random.seed(1000)\n",
    "x = np.random.rand(20, )\n",
    "y = np.random.rand(20, )\n",
    "x, y = np.meshgrid(x,y)\n",
    "z = franke_function(x, y)\n",
    "\n",
    "p = 4 # [1:5]\n",
    "\n",
    "x = np.random.rand(20, )\n",
    "y = np.random.rand(20, ) \n",
    "  \n",
    "X = generateDesignmatrix(p,x,y)\n",
    "\n",
    "print(z.shape)\n",
    "X"
   ]
  },
  {
   "cell_type": "code",
   "execution_count": null,
   "metadata": {},
   "outputs": [],
   "source": [
    "\"\"\"\n",
    "fig = plt.figure(figsize = (10,6))\n",
    "ax = fig.gca(projection='3d')\n",
    "\n",
    "# Plot the surface.\n",
    "surf = ax.plot_surface(x, y, z, cmap=cm.coolwarm,\n",
    "                       linewidth=0, antialiased=False)\n",
    "\n",
    "# Customize the z axis.\n",
    "ax.set_zlim(-0.10, 1.40)\n",
    "ax.zaxis.set_major_locator(LinearLocator(10))\n",
    "ax.zaxis.set_major_formatter(FormatStrFormatter('%.02f'))\n",
    "\n",
    "# Add a color bar which maps values to colors.\n",
    "fig.colorbar(surf, shrink=0.5, aspect=5)\n",
    "\n",
    "plt.show()\"\"\"\n"
   ]
  },
  {
   "cell_type": "markdown",
   "metadata": {},
   "source": [
    "# Test\n",
    "\n"
   ]
  },
  {
   "cell_type": "code",
   "execution_count": null,
   "metadata": {},
   "outputs": [],
   "source": [
    "import numpy as np\n",
    "import algorithms\n",
    "from model_selection import GridSearch #use Gridsearch.fit(x,y)\n",
    "from model_comparison import model_comparison"
   ]
  },
  {
   "cell_type": "code",
   "execution_count": null,
   "metadata": {},
   "outputs": [],
   "source": [
    "np.random.seed(1000)\n",
    "x = np.random.rand(1000, )\n",
    "y = np.random.rand(1000, )\n",
    "#x, y = np.meshgrid(x,y)\n",
    "z = franke_function(x, y)\n",
    "\n",
    "p = 4 # [1:5]\n",
    "\n",
    "X = generateDesignmatrix(p,x,y)"
   ]
  },
  {
   "cell_type": "code",
   "execution_count": null,
   "metadata": {},
   "outputs": [],
   "source": [
    "z.shape"
   ]
  },
  {
   "cell_type": "code",
   "execution_count": null,
   "metadata": {},
   "outputs": [],
   "source": [
    "# Experimental setup\n",
    "models = {\n",
    "    'ridge': algorithms.Ridge, \n",
    "    \"ols\": algorithms.OLS, \n",
    "    \"lasso\": algorithms.Lasso\n",
    "}\n",
    "param_grid = {\n",
    "    'ridge': [0.01, 0.1, 1.0, 10.0], \n",
    "    'ols': [0], \n",
    "    'lasso': [0.01, 0.1, 1.0, 10.0]\n",
    "}\n",
    "\n",
    "# Perform experiment and collect results.\n",
    "#\n",
    "# split_size: Dividing into 20 % test data and 80 % train data.\n",
    "# \n",
    "# TODO: Add scoring kwargs ('mse', 'r2')\n",
    "results = model_comparison(\n",
    "    models, param_grid, X, z, split_size=0.2\n",
    ")"
   ]
  },
  {
   "cell_type": "code",
   "execution_count": null,
   "metadata": {},
   "outputs": [],
   "source": [
    "results"
   ]
  },
  {
   "cell_type": "code",
   "execution_count": null,
   "metadata": {},
   "outputs": [],
   "source": [
    "from model_selection_new import GridSearchNew #use Gridsearch.fit(x,y)\n",
    "from model_comparison_new import model_comparison_new\n",
    "results = model_comparison_new(\n",
    "    models, param_grid, X, z, split_size=0.2\n",
    ")"
   ]
  },
  {
   "cell_type": "code",
   "execution_count": null,
   "metadata": {},
   "outputs": [],
   "source": [
    "X.shape"
   ]
  },
  {
   "cell_type": "code",
   "execution_count": null,
   "metadata": {},
   "outputs": [],
   "source": [
    "results"
   ]
  },
  {
   "cell_type": "code",
   "execution_count": null,
   "metadata": {},
   "outputs": [],
   "source": [
    "# Plotting:\n",
    "# for each model (subplots?) plot training scores vs test scores\n",
    "# train scores >> test scores => overfitting\n",
    "# low train scores => biased: coudl mean bad data or too much regularization \n",
    "# Validation curve (must include np.std(predicted scores))"
   ]
  },
  {
   "cell_type": "markdown",
   "metadata": {},
   "source": [
    "# Digital Elevation Model"
   ]
  },
  {
   "cell_type": "code",
   "execution_count": null,
   "metadata": {},
   "outputs": [],
   "source": [
    "from imageio import imread\n",
    "import matplotlib.pyplot as plt\n",
    "# Load the terrain\n",
    "terrain_flekkefjord = imread('Flekkefjord.tif')\n",
    "# Show the terrain\n",
    "plt.figure()\n",
    "plt.title('Terrain over Flekkefjord')\n",
    "plt.imshow(terrain_flekkefjord, cmap='gray')\n",
    "plt.xlabel('X')\n",
    "plt.ylabel('Y')\n",
    "plt.show()"
   ]
  },
  {
   "cell_type": "code",
   "execution_count": null,
   "metadata": {},
   "outputs": [],
   "source": [
    "terrain_flekkefjord.shape"
   ]
  },
  {
   "cell_type": "code",
   "execution_count": null,
   "metadata": {},
   "outputs": [],
   "source": [
    "# subset terrain_flekkefjord (we want a squared matrix, and x!=y)"
   ]
  },
  {
   "cell_type": "code",
   "execution_count": null,
   "metadata": {},
   "outputs": [],
   "source": [
    "terrain_flekkefjord = terrain_flekkefjord[0:1801, ]\n",
    "terrain_flekkefjord.shape"
   ]
  },
  {
   "cell_type": "code",
   "execution_count": null,
   "metadata": {},
   "outputs": [],
   "source": [
    "# Show the terrain\n",
    "plt.figure()\n",
    "plt.title('Terrain over Flekkefjord')\n",
    "plt.imshow(terrain_flekkefjord, cmap='gray')\n",
    "plt.xlabel('X')\n",
    "plt.ylabel('Y')\n",
    "plt.show()"
   ]
  },
  {
   "cell_type": "code",
   "execution_count": null,
   "metadata": {},
   "outputs": [],
   "source": [
    "x = np.linspace(1, 1801, num=1801)\n",
    "print(type(x))\n",
    "y = np.linspace(1+10, 1801+10, num=1801)\n",
    "x = np.squeeze(np.tile(x,[1,1801] ))\n",
    "y = np.squeeze(np.tile(y,[1,1801] ))\n",
    "print(type(x))\n",
    "print(x.shape)\n",
    "z = np.ndarray.flatten(terrain_flekkefjord)\n",
    "p = 2\n",
    "X = generateDesignmatrix(p,x,y)\n"
   ]
  },
  {
   "cell_type": "code",
   "execution_count": null,
   "metadata": {},
   "outputs": [],
   "source": [
    "results_flekkefjord = model_comparison_new(\n",
    "    models, param_grid, X, z, split_size=0.2\n",
    ")"
   ]
  },
  {
   "cell_type": "code",
   "execution_count": null,
   "metadata": {},
   "outputs": [],
   "source": []
  },
  {
   "cell_type": "code",
   "execution_count": null,
   "metadata": {},
   "outputs": [],
   "source": []
  },
  {
   "cell_type": "markdown",
   "metadata": {},
   "source": [
    "# Hanna testing new"
   ]
  },
  {
   "cell_type": "code",
   "execution_count": null,
   "metadata": {},
   "outputs": [],
   "source": [
    "import numpy as np\n",
    "import algorithms\n",
    "from model_selection0 import GridSearchNew #use Gridsearch.fit(x,y)\n",
    "from model_comparison0 import model_comparison0\n"
   ]
  },
  {
   "cell_type": "code",
   "execution_count": null,
   "metadata": {},
   "outputs": [],
   "source": [
    "def generateDesignmatrix(p, x, y): \n",
    "    m = int((p**2+3*p+2)/2) # returnerer heltall for p = [1:5]\n",
    "    X = np.zeros((len(x), m))\n",
    "    X[:,0] = 1\n",
    "    counter = 1\n",
    "    for i in range(1, p+1):\n",
    "        for j in range(i+1):\n",
    "            X[:,counter] = x**(i-j) * y**j\n",
    "            counter+=1\n",
    "    return X\n",
    "\n",
    "def franke_function(x, y):\n",
    "    term1 = 0.75 * np.exp(-(0.25*(9*x-2)**2) - 0.25*((9*y-2)**2))\n",
    "    term2 = 0.75 * np.exp(-((9*x+1)**2) / 49.0 - 0.1*(9*y+1))\n",
    "    term3 = 0.5 * np.exp(-(9*x-7)**2/4.0 - 0.25*((9*y-3)**2))\n",
    "    term4 = -0.2 * np.exp(-(9*x-4)**2 - (9*y-7)**2)\n",
    "    return term1 + term2 + term3 + term4"
   ]
  },
  {
   "cell_type": "code",
   "execution_count": null,
   "metadata": {},
   "outputs": [],
   "source": [
    "np.random.seed(1000)\n",
    "x = np.random.rand(1000, )\n",
    "y = np.random.rand(1000, )\n",
    "#x, y = np.meshgrid(x,y)\n",
    "z = franke_function(x, y)\n",
    "\n",
    "p = 4 # [1:5]\n",
    "\n",
    "X = generateDesignmatrix(p,x,y)"
   ]
  },
  {
   "cell_type": "code",
   "execution_count": null,
   "metadata": {},
   "outputs": [],
   "source": [
    "# Experimental setup\n",
    "models = {\n",
    "    'ridge': algorithms.Ridge, \n",
    "    \"ols\": algorithms.OLS, \n",
    "    \"lasso\": algorithms.Lasso\n",
    "}\n",
    "param_grid = {\n",
    "    'ridge': [0.001, 0.01, 0.1, 1.0, 10.0], \n",
    "    'ols': [0], \n",
    "    'lasso': [0.001, 0.01, 0.1, 1.0, 10.0]\n",
    "}\n",
    "\n",
    "# Perform experiment and collect results.\n",
    "#\n",
    "# split_size: Dividing into 20 % test data and 80 % train data.\n",
    "# \n",
    "# TODO: Add scoring kwargs ('mse', 'r2')\n",
    "results = model_comparison0(\n",
    "    models, param_grid, X, z, split_size=0.2\n",
    ")"
   ]
  },
  {
   "cell_type": "code",
   "execution_count": null,
   "metadata": {},
   "outputs": [],
   "source": [
    "results['mse']"
   ]
  },
  {
   "cell_type": "code",
   "execution_count": null,
   "metadata": {},
   "outputs": [],
   "source": [
    "results[\"r2\"]"
   ]
  },
  {
   "cell_type": "code",
   "execution_count": null,
   "metadata": {},
   "outputs": [],
   "source": [
    "results[\"mse\"][\"lasso\"][0]"
   ]
  },
  {
   "cell_type": "code",
   "execution_count": null,
   "metadata": {},
   "outputs": [],
   "source": [
    "# merge this file into master"
   ]
  },
  {
   "cell_type": "markdown",
   "metadata": {},
   "source": [
    "Plot mse vs. lambda"
   ]
  },
  {
   "cell_type": "code",
   "execution_count": null,
   "metadata": {},
   "outputs": [],
   "source": [
    "import matplotlib.pyplot as plt\n",
    "for p in np.arange(1,6,1):\n",
    "    print('The polynomial order is:', p)\n",
    "    X = generateDesignmatrix(p,x,y)\n",
    "    \n",
    "    results = model_comparison0(\n",
    "    models, param_grid, X, z, split_size=0.2\n",
    "    )\n",
    "    \n",
    "    \n",
    "    # write loop instead of repeating code!!!\n",
    "    \n",
    "    # One figure for MSE and all pol. orders\n",
    "    \n",
    "    # Subplot for ridge\n",
    "    plt.figure(1)\n",
    "    plt.subplot(121)\n",
    "    # log x-axis\n",
    "    xlogr = np.log10(param_grid['ridge'])\n",
    "    plt.plot(xlogr, results[\"mse\"][\"ridge\"][0], label='p = %s' % p) # plot ridge\n",
    "    ax = plt.gca()\n",
    "    plt.xticks(np.asarray(xlogr))\n",
    "    ax.set_xticklabels(param_grid['ridge'])\n",
    "    ax.set_title(\"Ridge\")\n",
    "    plt.xlabel('λ')\n",
    "    plt.ylabel('MSE')\n",
    "    #plt.legend(bbox_to_anchor=(1.05, 1), loc=2, borderaxespad=0.)\n",
    "    \n",
    "    plt.subplot(122)\n",
    "    # log x-axis\n",
    "    xlogl = np.log10(param_grid['lasso'])\n",
    "    plt.plot(xlogl, results[\"mse\"][\"lasso\"][0], label='p = %s' % p) # plot ridge\n",
    "    ax = plt.gca()\n",
    "    plt.xticks(np.asarray(xlogl))\n",
    "    ax.set_xticklabels(param_grid['lasso'])\n",
    "    ax.set_title(\"Lasso\")\n",
    "    plt.xlabel('λ')\n",
    "    plt.ylabel('MSE')\n",
    "    plt.legend(bbox_to_anchor=(1.05, 1), loc=2, borderaxespad=0.)\n",
    "    \n",
    "    # One figure for R2 and all pol. orders\n",
    "    # Subplot for ridge\n",
    "    plt.figure(2)\n",
    "    plt.subplot(121)\n",
    "    # log x-axis\n",
    "    xlogr = np.log10(param_grid['ridge'])\n",
    "    plt.plot(xlogr, results[\"r2\"][\"ridge\"][0], label='p = %s' % p) # plot ridge\n",
    "    ax = plt.gca()\n",
    "    plt.xticks(np.asarray(xlogr))\n",
    "    ax.set_xticklabels(param_grid['ridge'])\n",
    "    ax.set_title(\"Ridge\")\n",
    "    plt.xlabel('λ')\n",
    "    plt.ylabel('R2 score')\n",
    "    #plt.legend(bbox_to_anchor=(1.05, 1), loc=2, borderaxespad=0.)\n",
    "    \n",
    "    plt.subplot(122)\n",
    "    # log x-axis\n",
    "    xlogl = np.log10(param_grid['lasso'])\n",
    "    plt.plot(xlogl, results[\"r2\"][\"lasso\"][0], label='p = %s' % p) # plot ridge\n",
    "    ax = plt.gca()\n",
    "    plt.xticks(np.asarray(xlogl))\n",
    "    ax.set_xticklabels(param_grid['lasso'])\n",
    "    ax.set_title(\"Lasso\")\n",
    "    plt.xlabel('λ')\n",
    "    plt.ylabel('R2 score')\n",
    "    plt.legend(bbox_to_anchor=(1.05, 1), loc=2, borderaxespad=0.)\n",
    "\n",
    "plt.tight_layout()    \n",
    "plt.show()\n",
    "    \n",
    "    "
   ]
  },
  {
   "cell_type": "markdown",
   "metadata": {},
   "source": [
    "Test model_resample"
   ]
  },
  {
   "cell_type": "code",
   "execution_count": 1,
   "metadata": {},
   "outputs": [
    {
     "name": "stdout",
     "output_type": "stream",
     "text": [
      "ridge\n",
      "ols\n",
      "lasso\n"
     ]
    },
    {
     "data": {
      "text/plain": [
       "({'ridge': 0.08682516892711088,\n",
       "  'lasso': 0.06743343607608493,\n",
       "  'ols': 0.08682558188760252},\n",
       " {'ridge': -0.09117979453703567,\n",
       "  'lasso': 0.15258948505647923,\n",
       "  'ols': -0.0911850169765913},\n",
       " {'ridge': 0.03695975730868667,\n",
       "  'lasso': 0.0005094203726827562,\n",
       "  'ols': 0.03695655018388111},\n",
       " {'ridge': 1.295260195396016e-17,\n",
       "  'lasso': -6.106226635438361e-17,\n",
       "  'ols': 7.586524001605237e-17})"
      ]
     },
     "execution_count": 1,
     "metadata": {},
     "output_type": "execute_result"
    }
   ],
   "source": [
    "import numpy as np\n",
    "import algorithms\n",
    "from model_selection0 import GridSearchNew #use Gridsearch.fit(x,y)\n",
    "from model_comparison0 import model_comparison0\n",
    "\n",
    "\n",
    "def generateDesignmatrix(p, x, y): \n",
    "    m = int((p**2+3*p+2)/2) # returnerer heltall for p = [1:5]\n",
    "    X = np.zeros((len(x), m))\n",
    "    X[:,0] = 1\n",
    "    counter = 1\n",
    "    for i in range(1, p+1):\n",
    "        for j in range(i+1):\n",
    "            X[:,counter] = x**(i-j) * y**j\n",
    "            counter+=1\n",
    "    return X\n",
    "\n",
    "def franke_function(x, y):\n",
    "    term1 = 0.75 * np.exp(-(0.25*(9*x-2)**2) - 0.25*((9*y-2)**2))\n",
    "    term2 = 0.75 * np.exp(-((9*x+1)**2) / 49.0 - 0.1*(9*y+1))\n",
    "    term3 = 0.5 * np.exp(-(9*x-7)**2/4.0 - 0.25*((9*y-3)**2))\n",
    "    term4 = -0.2 * np.exp(-(9*x-4)**2 - (9*y-7)**2)\n",
    "    return term1 + term2 + term3 + term4\n",
    "\n",
    "\n",
    "\n",
    "\n",
    "\n",
    "np.random.seed(1000)\n",
    "x = np.random.rand(1000, )\n",
    "y = np.random.rand(1000, )\n",
    "#x, y = np.meshgrid(x,y)\n",
    "z = franke_function(x, y)\n",
    "\n",
    "p = 4 # [1:5]\n",
    "\n",
    "X = generateDesignmatrix(p,x,y)\n",
    "\n",
    "\n",
    "\n",
    "\n",
    "\n",
    "\n",
    "\n",
    "from model_resample import model_resample\n",
    "\n",
    "models = {\n",
    "    'ridge': algorithms.Ridge, \n",
    "    \"ols\": algorithms.OLS, \n",
    "    \"lasso\": algorithms.Lasso\n",
    "}\n",
    "lmd = {\n",
    "    'ridge': [0.01], \n",
    "    'ols': [0], \n",
    "    'lasso': [0.01]\n",
    "}\n",
    "\n",
    "model_resample(models, lmd, X, z, 30, split_size = 0.2)"
   ]
  },
  {
   "cell_type": "code",
   "execution_count": null,
   "metadata": {},
   "outputs": [],
   "source": []
  },
  {
   "cell_type": "code",
   "execution_count": null,
   "metadata": {},
   "outputs": [],
   "source": []
  },
  {
   "cell_type": "markdown",
   "metadata": {},
   "source": [
    "# Image\n"
   ]
  },
  {
   "cell_type": "code",
   "execution_count": null,
   "metadata": {},
   "outputs": [],
   "source": [
    "from imageio import imread\n",
    "import matplotlib.pyplot as plt\n",
    "# Load the terrain\n",
    "terrain_flekkefjord = imread('Flekkefjord.tif')\n",
    "# Show the terrain\n",
    "plt.figure()\n",
    "plt.title('Terrain over Flekkefjord')\n",
    "plt.imshow(terrain_flekkefjord, cmap='gray')\n",
    "plt.xlabel('X')\n",
    "plt.ylabel('Y')\n",
    "plt.show()"
   ]
  },
  {
   "cell_type": "code",
   "execution_count": null,
   "metadata": {},
   "outputs": [],
   "source": [
    "terrain_flekkefjord = terrain_flekkefjord[0:180,0:180 ]\n",
    "terrain_flekkefjord.shape"
   ]
  },
  {
   "cell_type": "code",
   "execution_count": null,
   "metadata": {},
   "outputs": [],
   "source": [
    "x = np.linspace(1, 180, num=180)\n",
    "print(type(x))\n",
    "y = np.linspace(1+80, 180+80, num=180)\n",
    "x = np.squeeze(np.tile(x,[1,180] ))\n",
    "y = np.squeeze(np.tile(y,[1,180] ))\n",
    "print(type(x))\n",
    "print(x.shape)\n",
    "z = np.ndarray.flatten(terrain_flekkefjord)\n",
    "p = 2\n",
    "X = generateDesignmatrix(p,x,y)\n",
    "X"
   ]
  },
  {
   "cell_type": "code",
   "execution_count": null,
   "metadata": {},
   "outputs": [],
   "source": [
    "# Experimental setup\n",
    "# Don't use alpha=0.001 because it can cause precision problems\n",
    "\n",
    "results_flekkefjord =  model_comparison0(\n",
    "    models, param_grid, X, z, split_size=0.2\n",
    "    )"
   ]
  },
  {
   "cell_type": "code",
   "execution_count": null,
   "metadata": {},
   "outputs": [],
   "source": [
    "results_flekkefjord['mse']"
   ]
  },
  {
   "cell_type": "code",
   "execution_count": null,
   "metadata": {},
   "outputs": [],
   "source": [
    "import matplotlib.pyplot as plt\n",
    "for p in np.arange(1,6,1):\n",
    "    print('The polynomial order is:', p)\n",
    "    X = generateDesignmatrix(p,x,y)\n",
    "    \n",
    "    results = model_comparison0(\n",
    "    models, param_grid, X, z, split_size=0.2\n",
    "    )\n",
    "    \n",
    "    # One figure for MSE and all pol. orders\n",
    "    \n",
    "    # Subplot for ridge\n",
    "    plt.figure(1)\n",
    "    plt.subplot(121)\n",
    "    # log x-axis\n",
    "    xlogr = np.log10(param_grid['ridge'])\n",
    "    plt.plot(xlogr, results[\"mse\"][\"ridge\"][0], label='p = %s' % p) # plot ridge\n",
    "    ax = plt.gca()\n",
    "    plt.xticks(np.asarray(xlogr))\n",
    "    ax.set_xticklabels(param_grid['ridge'])\n",
    "    ax.set_title(\"Ridge\")\n",
    "    plt.xlabel('λ')\n",
    "    plt.ylabel('MSE')\n",
    "    #plt.legend(bbox_to_anchor=(1.05, 1), loc=2, borderaxespad=0.)\n",
    "    \n",
    "    plt.subplot(122)\n",
    "    # log x-axis\n",
    "    xlogl = np.log10(param_grid['lasso'])\n",
    "    plt.plot(xlogl, results[\"mse\"][\"lasso\"][0], label='p = %s' % p) # plot ridge\n",
    "    ax = plt.gca()\n",
    "    plt.xticks(np.asarray(xlogl))\n",
    "    ax.set_xticklabels(param_grid['lasso'])\n",
    "    ax.set_title(\"Lasso\")\n",
    "    plt.xlabel('λ')\n",
    "    plt.ylabel('MSE')\n",
    "    plt.legend(bbox_to_anchor=(1.05, 1), loc=2, borderaxespad=0.)\n",
    "\n",
    "plt.tight_layout()    \n",
    "plt.show()\n",
    "    "
   ]
  },
  {
   "cell_type": "code",
   "execution_count": null,
   "metadata": {},
   "outputs": [],
   "source": []
  },
  {
   "cell_type": "markdown",
   "metadata": {},
   "source": [
    "Test conficence intervals"
   ]
  },
  {
   "cell_type": "code",
   "execution_count": null,
   "metadata": {},
   "outputs": [],
   "source": [
    "from functions import variance, ci"
   ]
  },
  {
   "cell_type": "code",
   "execution_count": null,
   "metadata": {},
   "outputs": [],
   "source": []
  },
  {
   "cell_type": "markdown",
   "metadata": {},
   "source": []
  },
  {
   "cell_type": "code",
   "execution_count": null,
   "metadata": {},
   "outputs": [],
   "source": []
  },
  {
   "cell_type": "code",
   "execution_count": null,
   "metadata": {},
   "outputs": [],
   "source": []
  },
  {
   "cell_type": "code",
   "execution_count": null,
   "metadata": {},
   "outputs": [],
   "source": []
  },
  {
   "cell_type": "code",
   "execution_count": null,
   "metadata": {},
   "outputs": [],
   "source": []
  }
 ],
 "metadata": {
  "kernelspec": {
   "display_name": "Python 3",
   "language": "python",
   "name": "python3"
  },
  "language_info": {
   "codemirror_mode": {
    "name": "ipython",
    "version": 3
   },
   "file_extension": ".py",
   "mimetype": "text/x-python",
   "name": "python",
   "nbconvert_exporter": "python",
   "pygments_lexer": "ipython3",
   "version": "3.7.0"
  }
 },
 "nbformat": 4,
 "nbformat_minor": 2
}
