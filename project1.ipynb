{
 "cells": [
  {
   "cell_type": "markdown",
   "metadata": {},
   "source": [
    "# Project 1: fys-stk4155\n",
    "## Part a) \n",
    "### (Kode fra oppgaveteksten)"
   ]
  },
  {
   "cell_type": "code",
   "execution_count": null,
   "metadata": {},
   "outputs": [],
   "source": [
    "from mpl_toolkits.mplot3d import Axes3D\n",
    "import matplotlib.pyplot as plt\n",
    "from matplotlib import cm\n",
    "from matplotlib.ticker import LinearLocator, FormatStrFormatter\n",
    "import numpy as np\n",
    "from random import random, seed"
   ]
  },
  {
   "cell_type": "code",
   "execution_count": null,
   "metadata": {},
   "outputs": [],
   "source": [
    "# Need to make sure this works when y, y_hat and y_tilde are matrices.\n",
    "\n",
    "# Creating a R2-square fuction:\n",
    "def R2(y, y_predict):\n",
    "    C = y-y_predict\n",
    "    val = sum(sum((y-y_predict))**2)/sum(sum((y-np.mean(y))**2))\n",
    "    return 1 - val\n",
    "\n",
    "# Creating a mean square error function:\n",
    "def MSE(y, y_predict):\n",
    "    C = y-y_predict\n",
    "    [n, m] = C.shape\n",
    "    return sum(sum((C)**2))/(n*m)\n",
    "\n",
    "\n",
    "def generateDesignmatrix(p, x, y): \n",
    "    m = int((p**2+3*p+2)/2) # returnerer heltall for p = [1:5]\n",
    "    X = np.zeros((len(x), m))\n",
    "    X[:,0] = 1\n",
    "    counter = 1\n",
    "    for i in range(1, p+1):\n",
    "        for j in range(i+1):\n",
    "            X[:,counter] = x**(i-j) * y**j\n",
    "            counter+=1\n",
    "    return X\n",
    "\n",
    "def franke_function(x, y):\n",
    "    term1 = 0.75 * np.exp(-(0.25*(9*x-2)**2) - 0.25*((9*y-2)**2))\n",
    "    term2 = 0.75 * np.exp(-((9*x+1)**2) / 49.0 - 0.1*(9*y+1))\n",
    "    term3 = 0.5 * np.exp(-(9*x-7)**2/4.0 - 0.25*((9*y-3)**2))\n",
    "    term4 = -0.2 * np.exp(-(9*x-4)**2 - (9*y-7)**2)\n",
    "    return term1 + term2 + term3 + term4"
   ]
  },
  {
   "cell_type": "code",
   "execution_count": null,
   "metadata": {},
   "outputs": [],
   "source": [
    "def franke_function(x, y):\n",
    "    term1 = 0.75 * np.exp(-(0.25*(9*x-2)**2) - 0.25*((9*y-2)**2))\n",
    "    term2 = 0.75 * np.exp(-((9*x+1)**2) / 49.0 - 0.1*(9*y+1))\n",
    "    term3 = 0.5 * np.exp(-(9*x-7)**2/4.0 - 0.25*((9*y-3)**2))\n",
    "    term4 = -0.2 * np.exp(-(9*x-4)**2 - (9*y-7)**2)\n",
    "    return term1 + term2 + term3 + term4"
   ]
  },
  {
   "cell_type": "code",
   "execution_count": null,
   "metadata": {},
   "outputs": [],
   "source": [
    "fig = plt.figure(figsize = (10,6))\n",
    "ax = fig.gca(projection='3d')\n",
    "\n",
    "# Make data.\n",
    "x = np.arange(0, 1, 0.05)\n",
    "y = np.arange(0, 1, 0.05)\n",
    "x, y = np.meshgrid(x,y)\n",
    "\n",
    "z = franke_function(x, y)\n",
    "print(z.shape)\n",
    "# Plot the surface.\n",
    "surf = ax.plot_surface(x, y, z, cmap=cm.coolwarm,\n",
    "                       linewidth=0, antialiased=False)\n",
    "\n",
    "# Customize the z axis.\n",
    "ax.set_zlim(-0.10, 1.40)\n",
    "ax.zaxis.set_major_locator(LinearLocator(10))\n",
    "ax.zaxis.set_major_formatter(FormatStrFormatter('%.02f'))\n",
    "\n",
    "# Add a color bar which maps values to colors.\n",
    "fig.colorbar(surf, shrink=0.5, aspect=5)\n",
    "\n",
    "plt.show()"
   ]
  },
  {
   "cell_type": "code",
   "execution_count": null,
   "metadata": {},
   "outputs": [],
   "source": [
    "# Initializing X-matrix for fitting a polynomial of degree p \n",
    "\n",
    "np.random.seed(1000)\n",
    "x = np.random.rand(20, )\n",
    "y = np.random.rand(20, )\n",
    "x, y = np.meshgrid(x,y)\n",
    "z = franke_function(x, y)\n",
    "\n",
    "p = 4 # [1:5]\n",
    "\n",
    "x = np.random.rand(20, )\n",
    "y = np.random.rand(20, ) \n",
    "  \n",
    "X = generateDesignmatrix(p,x,y)\n",
    "\n",
    "print(z.shape)\n",
    "X"
   ]
  },
  {
   "cell_type": "code",
   "execution_count": null,
   "metadata": {},
   "outputs": [],
   "source": [
    "\"\"\"\n",
    "fig = plt.figure(figsize = (10,6))\n",
    "ax = fig.gca(projection='3d')\n",
    "\n",
    "# Plot the surface.\n",
    "surf = ax.plot_surface(x, y, z, cmap=cm.coolwarm,\n",
    "                       linewidth=0, antialiased=False)\n",
    "\n",
    "# Customize the z axis.\n",
    "ax.set_zlim(-0.10, 1.40)\n",
    "ax.zaxis.set_major_locator(LinearLocator(10))\n",
    "ax.zaxis.set_major_formatter(FormatStrFormatter('%.02f'))\n",
    "\n",
    "# Add a color bar which maps values to colors.\n",
    "fig.colorbar(surf, shrink=0.5, aspect=5)\n",
    "\n",
    "plt.show()\"\"\"\n"
   ]
  },
  {
   "cell_type": "markdown",
   "metadata": {},
   "source": [
    "# Test\n",
    "\n"
   ]
  },
  {
   "cell_type": "code",
   "execution_count": null,
   "metadata": {},
   "outputs": [],
   "source": [
    "import numpy as np\n",
    "import algorithms\n",
    "from model_selection import GridSearch #use Gridsearch.fit(x,y)\n",
    "from model_comparison import model_comparison"
   ]
  },
  {
   "cell_type": "code",
   "execution_count": null,
   "metadata": {},
   "outputs": [],
   "source": [
    "np.random.seed(1000)\n",
    "x = np.random.rand(1000, )\n",
    "y = np.random.rand(1000, )\n",
    "#x, y = np.meshgrid(x,y)\n",
    "z = franke_function(x, y)\n",
    "\n",
    "p = 4 # [1:5]\n",
    "\n",
    "X = generateDesignmatrix(p,x,y)"
   ]
  },
  {
   "cell_type": "code",
   "execution_count": null,
   "metadata": {},
   "outputs": [],
   "source": [
    "z.shape"
   ]
  },
  {
   "cell_type": "code",
   "execution_count": null,
   "metadata": {},
   "outputs": [],
   "source": [
    "# Experimental setup\n",
    "models = {\n",
    "    'ridge': algorithms.Ridge, \n",
    "    \"ols\": algorithms.OLS, \n",
    "    \"lasso\": algorithms.Lasso\n",
    "}\n",
    "param_grid = {\n",
    "    'ridge': [0.01, 0.1, 1.0, 10.0], \n",
    "    'ols': [0], \n",
    "    'lasso': [0.01, 0.1, 1.0, 10.0]\n",
    "}\n",
    "\n",
    "# Perform experiment and collect results.\n",
    "#\n",
    "# split_size: Dividing into 20 % test data and 80 % train data.\n",
    "# \n",
    "# TODO: Add scoring kwargs ('mse', 'r2')\n",
    "results = model_comparison(\n",
    "    models, param_grid, X, z, split_size=0.2\n",
    ")"
   ]
  },
  {
   "cell_type": "code",
   "execution_count": null,
   "metadata": {},
   "outputs": [],
   "source": [
    "results"
   ]
  },
  {
   "cell_type": "code",
   "execution_count": null,
   "metadata": {},
   "outputs": [],
   "source": [
    "from model_selection_new import GridSearchNew #use Gridsearch.fit(x,y)\n",
    "from model_comparison_new import model_comparison_new\n",
    "results = model_comparison_new(\n",
    "    models, param_grid, X, z, split_size=0.2\n",
    ")"
   ]
  },
  {
   "cell_type": "code",
   "execution_count": null,
   "metadata": {},
   "outputs": [],
   "source": [
    "X.shape"
   ]
  },
  {
   "cell_type": "code",
   "execution_count": null,
   "metadata": {},
   "outputs": [],
   "source": [
    "results"
   ]
  },
  {
   "cell_type": "code",
   "execution_count": null,
   "metadata": {},
   "outputs": [],
   "source": [
    "# Plotting:\n",
    "# for each model (subplots?) plot training scores vs test scores\n",
    "# train scores >> test scores => overfitting\n",
    "# low train scores => biased: coudl mean bad data or too much regularization \n",
    "# Validation curve (must include np.std(predicted scores))"
   ]
  },
  {
   "cell_type": "markdown",
   "metadata": {},
   "source": [
    "# Digital Elevation Model"
   ]
  },
  {
   "cell_type": "code",
   "execution_count": null,
   "metadata": {},
   "outputs": [],
   "source": [
    "from imageio import imread\n",
    "import matplotlib.pyplot as plt\n",
    "# Load the terrain\n",
    "terrain_flekkefjord = imread('Flekkefjord.tif')\n",
    "# Show the terrain\n",
    "plt.figure()\n",
    "plt.title('Terrain over Flekkefjord')\n",
    "plt.imshow(terrain_flekkefjord, cmap='gray')\n",
    "plt.xlabel('X')\n",
    "plt.ylabel('Y')\n",
    "plt.show()"
   ]
  },
  {
   "cell_type": "code",
   "execution_count": null,
   "metadata": {},
   "outputs": [],
   "source": [
    "terrain_flekkefjord.shape"
   ]
  },
  {
   "cell_type": "code",
   "execution_count": null,
   "metadata": {},
   "outputs": [],
   "source": [
    "# subset terrain_flekkefjord (we want a squared matrix, and x!=y)"
   ]
  },
  {
   "cell_type": "code",
   "execution_count": null,
   "metadata": {},
   "outputs": [],
   "source": [
    "terrain_flekkefjord = terrain_flekkefjord[0:1801, ]\n",
    "terrain_flekkefjord.shape"
   ]
  },
  {
   "cell_type": "code",
   "execution_count": null,
   "metadata": {},
   "outputs": [],
   "source": [
    "# Show the terrain\n",
    "plt.figure()\n",
    "plt.title('Terrain over Flekkefjord')\n",
    "plt.imshow(terrain_flekkefjord, cmap='gray')\n",
    "plt.xlabel('X')\n",
    "plt.ylabel('Y')\n",
    "plt.show()"
   ]
  },
  {
   "cell_type": "code",
   "execution_count": null,
   "metadata": {},
   "outputs": [],
   "source": [
    "x = np.linspace(1, 1801, num=1801)\n",
    "print(type(x))\n",
    "y = np.linspace(1+10, 1801+10, num=1801)\n",
    "x = np.squeeze(np.tile(x,[1,1801] ))\n",
    "y = np.squeeze(np.tile(y,[1,1801] ))\n",
    "print(type(x))\n",
    "print(x.shape)\n",
    "z = np.ndarray.flatten(terrain_flekkefjord)\n",
    "p = 2\n",
    "X = generateDesignmatrix(p,x,y)\n"
   ]
  },
  {
   "cell_type": "code",
   "execution_count": null,
   "metadata": {},
   "outputs": [],
   "source": [
    "results_flekkefjord = model_comparison_new(\n",
    "    models, param_grid, X, z, split_size=0.2\n",
    ")"
   ]
  },
  {
   "cell_type": "code",
   "execution_count": null,
   "metadata": {},
   "outputs": [],
   "source": []
  },
  {
   "cell_type": "code",
   "execution_count": null,
   "metadata": {},
   "outputs": [],
   "source": []
  },
  {
   "cell_type": "markdown",
   "metadata": {},
   "source": [
    "# Hanna testing new"
   ]
  },
  {
   "cell_type": "code",
   "execution_count": 18,
   "metadata": {},
   "outputs": [],
   "source": [
    "import numpy as np\n",
    "import algorithms\n",
    "from model_selection0 import GridSearchNew #use Gridsearch.fit(x,y)\n",
    "from model_comparison0 import model_comparison0\n"
   ]
  },
  {
   "cell_type": "code",
   "execution_count": 2,
   "metadata": {},
   "outputs": [],
   "source": [
    "def generateDesignmatrix(p, x, y): \n",
    "    m = int((p**2+3*p+2)/2) # returnerer heltall for p = [1:5]\n",
    "    X = np.zeros((len(x), m))\n",
    "    X[:,0] = 1\n",
    "    counter = 1\n",
    "    for i in range(1, p+1):\n",
    "        for j in range(i+1):\n",
    "            X[:,counter] = x**(i-j) * y**j\n",
    "            counter+=1\n",
    "    return X\n",
    "\n",
    "def franke_function(x, y):\n",
    "    term1 = 0.75 * np.exp(-(0.25*(9*x-2)**2) - 0.25*((9*y-2)**2))\n",
    "    term2 = 0.75 * np.exp(-((9*x+1)**2) / 49.0 - 0.1*(9*y+1))\n",
    "    term3 = 0.5 * np.exp(-(9*x-7)**2/4.0 - 0.25*((9*y-3)**2))\n",
    "    term4 = -0.2 * np.exp(-(9*x-4)**2 - (9*y-7)**2)\n",
    "    return term1 + term2 + term3 + term4"
   ]
  },
  {
   "cell_type": "code",
   "execution_count": 3,
   "metadata": {},
   "outputs": [],
   "source": [
    "np.random.seed(1000)\n",
    "x = np.random.rand(1000, )\n",
    "y = np.random.rand(1000, )\n",
    "#x, y = np.meshgrid(x,y)\n",
    "z = franke_function(x, y)\n",
    "\n",
    "p = 4 # [1:5]\n",
    "\n",
    "X = generateDesignmatrix(p,x,y)"
   ]
  },
  {
   "cell_type": "code",
   "execution_count": 4,
   "metadata": {},
   "outputs": [
    {
     "name": "stdout",
     "output_type": "stream",
     "text": [
      "Testing model: ridge\n",
      "Testing model: ols\n",
      "Testing model: lasso\n"
     ]
    }
   ],
   "source": [
    "# Experimental setup\n",
    "models = {\n",
    "    'ridge': algorithms.Ridge, \n",
    "    \"ols\": algorithms.OLS, \n",
    "    \"lasso\": algorithms.Lasso\n",
    "}\n",
    "param_grid = {\n",
    "    'ridge': [0.001, 0.01, 0.1, 1.0, 10.0], \n",
    "    'ols': [0], \n",
    "    'lasso': [0.001, 0.01, 0.1, 1.0, 10.0]\n",
    "}\n",
    "\n",
    "# Perform experiment and collect results.\n",
    "#\n",
    "# split_size: Dividing into 20 % test data and 80 % train data.\n",
    "# \n",
    "# TODO: Add scoring kwargs ('mse', 'r2')\n",
    "results = model_comparison0(\n",
    "    models, param_grid, X, z, split_size=0.2\n",
    ")"
   ]
  },
  {
   "cell_type": "code",
   "execution_count": 5,
   "metadata": {},
   "outputs": [
    {
     "data": {
      "text/plain": [
       "{'ridge': [[0.004103395803312588,\n",
       "   0.006864828915362106,\n",
       "   0.008835139056340485,\n",
       "   0.013279683258166424,\n",
       "   0.021614898450121912]],\n",
       " 'lasso': [[0.013470790796861839,\n",
       "   0.023586365702557295,\n",
       "   0.08241004623695133,\n",
       "   0.08241004623695133,\n",
       "   0.08241004623695133]],\n",
       " 'ols': [[0.0037104392341302628]]}"
      ]
     },
     "execution_count": 5,
     "metadata": {},
     "output_type": "execute_result"
    }
   ],
   "source": [
    "results['mse']"
   ]
  },
  {
   "cell_type": "code",
   "execution_count": 6,
   "metadata": {},
   "outputs": [
    {
     "data": {
      "text/plain": [
       "{'ridge': [[0.9501753915198192,\n",
       "   0.9166452788407053,\n",
       "   0.8927212081284608,\n",
       "   0.8387542779702576,\n",
       "   0.73754570501174]],\n",
       " 'lasso': [[0.836433795435908,\n",
       "   0.7136075843203864,\n",
       "   -0.000646412241043004,\n",
       "   -0.000646412241043004,\n",
       "   -0.000646412241043004]],\n",
       " 'ols': [[0.954946782861941]]}"
      ]
     },
     "execution_count": 6,
     "metadata": {},
     "output_type": "execute_result"
    }
   ],
   "source": [
    "results[\"r2\"]"
   ]
  },
  {
   "cell_type": "code",
   "execution_count": 7,
   "metadata": {},
   "outputs": [
    {
     "data": {
      "text/plain": [
       "[0.013470790796861839,\n",
       " 0.023586365702557295,\n",
       " 0.08241004623695133,\n",
       " 0.08241004623695133,\n",
       " 0.08241004623695133]"
      ]
     },
     "execution_count": 7,
     "metadata": {},
     "output_type": "execute_result"
    }
   ],
   "source": [
    "results[\"mse\"][\"lasso\"][0]"
   ]
  },
  {
   "cell_type": "code",
   "execution_count": 8,
   "metadata": {},
   "outputs": [],
   "source": [
    "# merge this file into master"
   ]
  },
  {
   "cell_type": "markdown",
   "metadata": {},
   "source": [
    "Plot mse vs. lambda"
   ]
  },
  {
   "cell_type": "code",
   "execution_count": 10,
   "metadata": {},
   "outputs": [
    {
     "name": "stdout",
     "output_type": "stream",
     "text": [
      "The polynomial order is: 1\n",
      "Testing model: ridge\n",
      "Testing model: ols\n",
      "Testing model: lasso\n",
      "The polynomial order is: 2\n",
      "Testing model: ridge\n",
      "Testing model: ols\n",
      "Testing model: lasso\n",
      "The polynomial order is: 3\n",
      "Testing model: ridge\n",
      "Testing model: ols\n",
      "Testing model: lasso\n"
     ]
    },
    {
     "name": "stderr",
     "output_type": "stream",
     "text": [
      "c:\\users\\nbpst2\\appdata\\local\\programs\\python\\python37-32\\lib\\site-packages\\matplotlib\\cbook\\deprecation.py:107: MatplotlibDeprecationWarning: Adding an axes using the same arguments as a previous axes currently reuses the earlier instance.  In a future version, a new instance will always be created and returned.  Meanwhile, this warning can be suppressed, and the future behavior ensured, by passing a unique label to each axes instance.\n",
      "  warnings.warn(message, mplDeprecation, stacklevel=1)\n"
     ]
    },
    {
     "name": "stdout",
     "output_type": "stream",
     "text": [
      "The polynomial order is: 4\n",
      "Testing model: ridge\n",
      "Testing model: ols\n",
      "Testing model: lasso\n",
      "The polynomial order is: 5\n",
      "Testing model: ridge\n",
      "Testing model: ols\n",
      "Testing model: lasso\n"
     ]
    },
    {
     "data": {
      "image/png": "[encoded data removed]",
      "text/plain": [
       "<Figure size 432x288 with 2 Axes>"
      ]
     },
     "metadata": {
      "needs_background": "light"
     },
     "output_type": "display_data"
    },
    {
     "data": {
      "image/png": "[encoded data removed]",
      "text/plain": [
       "<Figure size 432x288 with 2 Axes>"
      ]
     },
     "metadata": {
      "needs_background": "light"
     },
     "output_type": "display_data"
    }
   ],
   "source": [
    "import matplotlib.pyplot as plt\n",
    "for p in np.arange(1,6,1):\n",
    "    print('The polynomial order is:', p)\n",
    "    X = generateDesignmatrix(p,x,y)\n",
    "    \n",
    "    results = model_comparison0(\n",
    "    models, param_grid, X, z, split_size=0.2\n",
    "    )\n",
    "    \n",
    "    \n",
    "    # write loop instead of repeating code!!!\n",
    "    \n",
    "    # One figure for MSE and all pol. orders\n",
    "    \n",
    "    # Subplot for ridge\n",
    "    plt.figure(1)\n",
    "    plt.subplot(121)\n",
    "    # log x-axis\n",
    "    xlogr = np.log10(param_grid['ridge'])\n",
    "    plt.plot(xlogr, results[\"mse\"][\"ridge\"][0], label='p = %s' % p) # plot ridge\n",
    "    ax = plt.gca()\n",
    "    plt.xticks(np.asarray(xlogr))\n",
    "    ax.set_xticklabels(param_grid['ridge'])\n",
    "    ax.set_title(\"Ridge\")\n",
    "    plt.xlabel('λ')\n",
    "    plt.ylabel('MSE')\n",
    "    #plt.legend(bbox_to_anchor=(1.05, 1), loc=2, borderaxespad=0.)\n",
    "    \n",
    "    plt.subplot(122)\n",
    "    # log x-axis\n",
    "    xlogl = np.log10(param_grid['lasso'])\n",
    "    plt.plot(xlogl, results[\"mse\"][\"lasso\"][0], label='p = %s' % p) # plot ridge\n",
    "    ax = plt.gca()\n",
    "    plt.xticks(np.asarray(xlogl))\n",
    "    ax.set_xticklabels(param_grid['lasso'])\n",
    "    ax.set_title(\"Lasso\")\n",
    "    plt.xlabel('λ')\n",
    "    plt.ylabel('MSE')\n",
    "    plt.legend(bbox_to_anchor=(1.05, 1), loc=2, borderaxespad=0.)\n",
    "    \n",
    "    # One figure for R2 and all pol. orders\n",
    "    # Subplot for ridge\n",
    "    plt.figure(2)\n",
    "    plt.subplot(121)\n",
    "    # log x-axis\n",
    "    xlogr = np.log10(param_grid['ridge'])\n",
    "    plt.plot(xlogr, results[\"r2\"][\"ridge\"][0], label='p = %s' % p) # plot ridge\n",
    "    ax = plt.gca()\n",
    "    plt.xticks(np.asarray(xlogr))\n",
    "    ax.set_xticklabels(param_grid['ridge'])\n",
    "    ax.set_title(\"Ridge\")\n",
    "    plt.xlabel('λ')\n",
    "    plt.ylabel('R2 score')\n",
    "    #plt.legend(bbox_to_anchor=(1.05, 1), loc=2, borderaxespad=0.)\n",
    "    \n",
    "    plt.subplot(122)\n",
    "    # log x-axis\n",
    "    xlogl = np.log10(param_grid['lasso'])\n",
    "    plt.plot(xlogl, results[\"r2\"][\"lasso\"][0], label='p = %s' % p) # plot ridge\n",
    "    ax = plt.gca()\n",
    "    plt.xticks(np.asarray(xlogl))\n",
    "    ax.set_xticklabels(param_grid['lasso'])\n",
    "    ax.set_title(\"Lasso\")\n",
    "    plt.xlabel('λ')\n",
    "    plt.ylabel('R2 score')\n",
    "    plt.legend(bbox_to_anchor=(1.05, 1), loc=2, borderaxespad=0.)\n",
    "\n",
    "plt.tight_layout()    \n",
    "plt.show()\n",
    "    \n",
    "    "
   ]
  },
  {
   "cell_type": "code",
   "execution_count": 11,
   "metadata": {},
   "outputs": [
    {
     "name": "stderr",
     "output_type": "stream",
     "text": [
      "c:\\users\\nbpst2\\appdata\\local\\programs\\python\\python37-32\\lib\\site-packages\\imageio\\plugins\\_tifffile.py:7285: UserWarning: module 'imageio.plugins._tifffile' has no attribute 'decode_packbits'\n",
      "  Functionality might be degraded or be slow.\n",
      "\n",
      "  warnings.warn(\"%s%s\" % (e, warn))\n",
      "c:\\users\\nbpst2\\appdata\\local\\programs\\python\\python37-32\\lib\\site-packages\\imageio\\plugins\\_tifffile.py:7285: UserWarning: module 'imageio.plugins._tifffile' has no attribute 'decode_lzw'\n",
      "  Functionality might be degraded or be slow.\n",
      "\n",
      "  warnings.warn(\"%s%s\" % (e, warn))\n",
      "c:\\users\\nbpst2\\appdata\\local\\programs\\python\\python37-32\\lib\\site-packages\\imageio\\plugins\\_tifffile.py:7285: UserWarning: module 'imageio.plugins._tifffile' has no attribute 'unpack_ints'\n",
      "  Functionality might be degraded or be slow.\n",
      "\n",
      "  warnings.warn(\"%s%s\" % (e, warn))\n",
      "c:\\users\\nbpst2\\appdata\\local\\programs\\python\\python37-32\\lib\\site-packages\\imageio\\plugins\\_tifffile.py:7285: UserWarning: module 'imageio.plugins._tifffile' has no attribute 'reverse_bitorder'\n",
      "  Functionality might be degraded or be slow.\n",
      "\n",
      "  warnings.warn(\"%s%s\" % (e, warn))\n"
     ]
    },
    {
     "data": {
      "image/png": "[encoded data removed]",
      "text/plain": [
       "<Figure size 432x288 with 1 Axes>"
      ]
     },
     "metadata": {
      "needs_background": "light"
     },
     "output_type": "display_data"
    }
   ],
   "source": [
    "from imageio import imread\n",
    "import matplotlib.pyplot as plt\n",
    "# Load the terrain\n",
    "terrain_flekkefjord = imread('Flekkefjord.tif')\n",
    "# Show the terrain\n",
    "plt.figure()\n",
    "plt.title('Terrain over Flekkefjord')\n",
    "plt.imshow(terrain_flekkefjord, cmap='gray')\n",
    "plt.xlabel('X')\n",
    "plt.ylabel('Y')\n",
    "plt.show()"
   ]
  },
  {
   "cell_type": "code",
   "execution_count": 12,
   "metadata": {},
   "outputs": [
    {
     "data": {
      "text/plain": [
       "(180, 180)"
      ]
     },
     "execution_count": 12,
     "metadata": {},
     "output_type": "execute_result"
    }
   ],
   "source": [
    "terrain_flekkefjord = terrain_flekkefjord[0:180,0:180 ]\n",
    "terrain_flekkefjord.shape"
   ]
  },
  {
   "cell_type": "code",
   "execution_count": 13,
   "metadata": {},
   "outputs": [
    {
     "name": "stdout",
     "output_type": "stream",
     "text": [
      "<class 'numpy.ndarray'>\n",
      "<class 'numpy.ndarray'>\n",
      "(32400,)\n"
     ]
    },
    {
     "data": {
      "text/plain": [
       "array([[1.0000e+00, 1.0000e+00, 8.1000e+01, 1.0000e+00, 8.1000e+01,\n",
       "        6.5610e+03],\n",
       "       [1.0000e+00, 2.0000e+00, 8.2000e+01, 4.0000e+00, 1.6400e+02,\n",
       "        6.7240e+03],\n",
       "       [1.0000e+00, 3.0000e+00, 8.3000e+01, 9.0000e+00, 2.4900e+02,\n",
       "        6.8890e+03],\n",
       "       ...,\n",
       "       [1.0000e+00, 1.7800e+02, 2.5800e+02, 3.1684e+04, 4.5924e+04,\n",
       "        6.6564e+04],\n",
       "       [1.0000e+00, 1.7900e+02, 2.5900e+02, 3.2041e+04, 4.6361e+04,\n",
       "        6.7081e+04],\n",
       "       [1.0000e+00, 1.8000e+02, 2.6000e+02, 3.2400e+04, 4.6800e+04,\n",
       "        6.7600e+04]])"
      ]
     },
     "execution_count": 13,
     "metadata": {},
     "output_type": "execute_result"
    }
   ],
   "source": [
    "x = np.linspace(1, 180, num=180)\n",
    "print(type(x))\n",
    "y = np.linspace(1+80, 180+80, num=180)\n",
    "x = np.squeeze(np.tile(x,[1,180] ))\n",
    "y = np.squeeze(np.tile(y,[1,180] ))\n",
    "print(type(x))\n",
    "print(x.shape)\n",
    "z = np.ndarray.flatten(terrain_flekkefjord)\n",
    "p = 2\n",
    "X = generateDesignmatrix(p,x,y)\n",
    "X"
   ]
  },
  {
   "cell_type": "code",
   "execution_count": 14,
   "metadata": {},
   "outputs": [
    {
     "name": "stdout",
     "output_type": "stream",
     "text": [
      "Testing model: ridge\n",
      "Testing model: ols\n",
      "Testing model: lasso\n"
     ]
    },
    {
     "name": "stderr",
     "output_type": "stream",
     "text": [
      "c:\\users\\nbpst2\\appdata\\local\\programs\\python\\python37-32\\lib\\site-packages\\sklearn\\linear_model\\coordinate_descent.py:491: ConvergenceWarning: Objective did not converge. You might want to increase the number of iterations. Fitting data with very small alpha may cause precision problems.\n",
      "  ConvergenceWarning)\n"
     ]
    }
   ],
   "source": [
    "# Experimental setup\n",
    "# Don't use alpha=0.001 because it can cause precision problems\n",
    "\n",
    "results_flekkefjord =  model_comparison0(\n",
    "    models, param_grid, X, z, split_size=0.2\n",
    "    )"
   ]
  },
  {
   "cell_type": "code",
   "execution_count": 15,
   "metadata": {},
   "outputs": [
    {
     "data": {
      "text/plain": [
       "{'ridge': [[8392.750414761782,\n",
       "   8393.050855328649,\n",
       "   8393.04757116414,\n",
       "   8393.046395168547,\n",
       "   8393.046550107521]],\n",
       " 'lasso': [[8393.046778812717,\n",
       "   8393.048691217695,\n",
       "   8393.067920733109,\n",
       "   8393.270762449058,\n",
       "   8396.353835792122]],\n",
       " 'ols': [[174505.6846397497]]}"
      ]
     },
     "execution_count": 15,
     "metadata": {},
     "output_type": "execute_result"
    }
   ],
   "source": [
    "results_flekkefjord['mse']"
   ]
  },
  {
   "cell_type": "code",
   "execution_count": 17,
   "metadata": {},
   "outputs": [
    {
     "name": "stdout",
     "output_type": "stream",
     "text": [
      "The polynomial order is: 1\n",
      "Testing model: ridge\n",
      "Testing model: ols\n",
      "Testing model: lasso\n",
      "The polynomial order is: 2\n",
      "Testing model: ridge\n",
      "Testing model: ols\n",
      "Testing model: lasso\n"
     ]
    },
    {
     "name": "stderr",
     "output_type": "stream",
     "text": [
      "c:\\users\\nbpst2\\appdata\\local\\programs\\python\\python37-32\\lib\\site-packages\\sklearn\\linear_model\\coordinate_descent.py:491: ConvergenceWarning: Objective did not converge. You might want to increase the number of iterations. Fitting data with very small alpha may cause precision problems.\n",
      "  ConvergenceWarning)\n",
      "c:\\users\\nbpst2\\appdata\\local\\programs\\python\\python37-32\\lib\\site-packages\\matplotlib\\cbook\\deprecation.py:107: MatplotlibDeprecationWarning: Adding an axes using the same arguments as a previous axes currently reuses the earlier instance.  In a future version, a new instance will always be created and returned.  Meanwhile, this warning can be suppressed, and the future behavior ensured, by passing a unique label to each axes instance.\n",
      "  warnings.warn(message, mplDeprecation, stacklevel=1)\n"
     ]
    },
    {
     "name": "stdout",
     "output_type": "stream",
     "text": [
      "The polynomial order is: 3\n",
      "Testing model: ridge\n",
      "Testing model: ols\n",
      "Testing model: lasso\n",
      "The polynomial order is: 4\n",
      "Testing model: ridge\n",
      "Testing model: ols\n",
      "Testing model: lasso\n",
      "The polynomial order is: 5\n",
      "Testing model: ridge\n",
      "Testing model: ols\n",
      "Testing model: lasso\n"
     ]
    },
    {
     "data": {
      "image/png": "[encoded data removed]",
      "text/plain": [
       "<Figure size 432x288 with 2 Axes>"
      ]
     },
     "metadata": {
      "needs_background": "light"
     },
     "output_type": "display_data"
    }
   ],
   "source": [
    "import matplotlib.pyplot as plt\n",
    "for p in np.arange(1,6,1):\n",
    "    print('The polynomial order is:', p)\n",
    "    X = generateDesignmatrix(p,x,y)\n",
    "    \n",
    "    results = model_comparison0(\n",
    "    models, param_grid, X, z, split_size=0.2\n",
    "    )\n",
    "    \n",
    "    # One figure for MSE and all pol. orders\n",
    "    \n",
    "    # Subplot for ridge\n",
    "    plt.figure(1)\n",
    "    plt.subplot(121)\n",
    "    # log x-axis\n",
    "    xlogr = np.log10(param_grid['ridge'])\n",
    "    plt.plot(xlogr, results[\"mse\"][\"ridge\"][0], label='p = %s' % p) # plot ridge\n",
    "    ax = plt.gca()\n",
    "    plt.xticks(np.asarray(xlogr))\n",
    "    ax.set_xticklabels(param_grid['ridge'])\n",
    "    ax.set_title(\"Ridge\")\n",
    "    plt.xlabel('λ')\n",
    "    plt.ylabel('MSE')\n",
    "    #plt.legend(bbox_to_anchor=(1.05, 1), loc=2, borderaxespad=0.)\n",
    "    \n",
    "    plt.subplot(122)\n",
    "    # log x-axis\n",
    "    xlogl = np.log10(param_grid['lasso'])\n",
    "    plt.plot(xlogl, results[\"mse\"][\"lasso\"][0], label='p = %s' % p) # plot ridge\n",
    "    ax = plt.gca()\n",
    "    plt.xticks(np.asarray(xlogl))\n",
    "    ax.set_xticklabels(param_grid['lasso'])\n",
    "    ax.set_title(\"Lasso\")\n",
    "    plt.xlabel('λ')\n",
    "    plt.ylabel('MSE')\n",
    "    plt.legend(bbox_to_anchor=(1.05, 1), loc=2, borderaxespad=0.)\n",
    "\n",
    "plt.tight_layout()    \n",
    "plt.show()\n",
    "    "
   ]
  },
  {
   "cell_type": "code",
   "execution_count": null,
   "metadata": {},
   "outputs": [],
   "source": []
  },
  {
   "cell_type": "code",
   "execution_count": null,
   "metadata": {},
   "outputs": [],
   "source": []
  }
 ],
 "metadata": {
  "kernelspec": {
   "display_name": "Python 3",
   "language": "python",
   "name": "python3"
  },
  "language_info": {
   "codemirror_mode": {
    "name": "ipython",
    "version": 3
   },
   "file_extension": ".py",
   "mimetype": "text/x-python",
   "name": "python",
   "nbconvert_exporter": "python",
   "pygments_lexer": "ipython3",
   "version": "3.7.0"
  }
 },
 "nbformat": 4,
 "nbformat_minor": 2
}
